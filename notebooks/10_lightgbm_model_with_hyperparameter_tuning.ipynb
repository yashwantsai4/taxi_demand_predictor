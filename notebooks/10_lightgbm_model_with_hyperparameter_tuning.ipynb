{
 "cells": [
  {
   "cell_type": "code",
   "execution_count": 1,
   "metadata": {},
   "outputs": [],
   "source": [
    "import warnings\n",
    "warnings.filterwarnings(\"ignore\")"
   ]
  },
  {
   "cell_type": "code",
   "execution_count": 2,
   "metadata": {},
   "outputs": [],
   "source": [
    "import os\n",
    "os.chdir('..')"
   ]
  },
  {
   "cell_type": "code",
   "execution_count": 3,
   "metadata": {},
   "outputs": [],
   "source": [
    "import pandas as pd\n",
    "from src.paths import TRANSFORMED_DATA_DIR\n",
    "\n",
    "df=pd.read_parquet(TRANSFORMED_DATA_DIR/'tabular_data.parquet')"
   ]
  },
  {
   "cell_type": "code",
   "execution_count": 4,
   "metadata": {},
   "outputs": [
    {
     "name": "stdout",
     "output_type": "stream",
     "text": [
      "X_train.shape=(161650, 674)\n",
      "y_train.shape=(161650,)\n",
      "X_test.shape=(16165, 674)\n",
      "y_test.shape=(16165,)\n"
     ]
    }
   ],
   "source": [
    "from datetime import datetime\n",
    "from src.data_split import train_test_split\n",
    "\n",
    "X_train, y_train, X_test, y_test = train_test_split(\n",
    "    df,\n",
    "    cutoff_date=datetime(2023, 10, 1, 0, 0, 0),\n",
    "    target_column_name='target_rides_next_hour'\n",
    ")\n",
    "\n",
    "print(f'{X_train.shape=}')\n",
    "print(f'{y_train.shape=}')\n",
    "print(f'{X_test.shape=}')\n",
    "print(f'{y_test.shape=}')"
   ]
  },
  {
   "cell_type": "code",
   "execution_count": 5,
   "metadata": {},
   "outputs": [],
   "source": [
    "import numpy as np\n",
    "from sklearn.model_selection import KFold, TimeSeriesSplit\n",
    "from sklearn.pipeline import make_pipeline\n",
    "from sklearn.metrics import mean_absolute_error\n",
    "import optuna\n",
    "\n",
    "from src.model import get_pipeline\n",
    "\n",
    "def objective(trial: optuna.trial.Trial) -> float:\n",
    "    \"\"\"\n",
    "    Given a set of hyper-parameters, it trains a model and computes an average\n",
    "    validation error based on a TimeSeriesSplit\n",
    "    \"\"\"\n",
    "    # pick hyper-parameters\n",
    "    hyperparams = {\n",
    "        \"metric\": 'mae',\n",
    "        \"verbose\": -1,\n",
    "        \"num_leaves\": trial.suggest_int(\"num_leaves\", 2, 256),\n",
    "        \"feature_fraction\": trial.suggest_float(\"feature_fraction\", 0.2, 1.0),\n",
    "        \"bagging_fraction\": trial.suggest_float(\"bagging_fraction\", 0.2, 1.0),\n",
    "        \"min_child_samples\": trial.suggest_int(\"min_child_samples\", 3, 100),   \n",
    "    }\n",
    "       \n",
    "    tss = TimeSeriesSplit(n_splits=2)\n",
    "    scores = []\n",
    "    for train_index, val_index in tss.split(X_train):\n",
    "\n",
    "        # split data for training and validation\n",
    "        X_train_, X_val_ = X_train.iloc[train_index, :], X_train.iloc[val_index,:]\n",
    "        y_train_, y_val_ = y_train.iloc[train_index], y_train.iloc[val_index]\n",
    "        \n",
    "        # train the model\n",
    "        pipeline = get_pipeline(**hyperparams)\n",
    "        pipeline.fit(X_train_, y_train_)\n",
    "        \n",
    "        # evaluate the model\n",
    "        y_pred = pipeline.predict(X_val_)\n",
    "        mae = mean_absolute_error(y_val_, y_pred)\n",
    "\n",
    "        scores.append(mae)\n",
    "   \n",
    "    # Return the mean score\n",
    "    return np.array(scores).mean()"
   ]
  },
  {
   "cell_type": "code",
   "execution_count": 7,
   "metadata": {},
   "outputs": [
    {
     "name": "stderr",
     "output_type": "stream",
     "text": [
      "[I 2024-02-11 15:18:01,394] A new study created in memory with name: no-name-9bb8fa9a-fda1-4294-a96b-008061eca908\n"
     ]
    },
    {
     "name": "stdout",
     "output_type": "stream",
     "text": [
      "[LightGBM] [Warning] bagging_fraction is set=0.812472300906022, subsample=1.0 will be ignored. Current value: bagging_fraction=0.812472300906022\n",
      "[LightGBM] [Warning] feature_fraction is set=0.8183248227189106, colsample_bytree=1.0 will be ignored. Current value: feature_fraction=0.8183248227189106\n",
      "[LightGBM] [Warning] bagging_fraction is set=0.812472300906022, subsample=1.0 will be ignored. Current value: bagging_fraction=0.812472300906022\n",
      "[LightGBM] [Warning] feature_fraction is set=0.8183248227189106, colsample_bytree=1.0 will be ignored. Current value: feature_fraction=0.8183248227189106\n"
     ]
    },
    {
     "name": "stderr",
     "output_type": "stream",
     "text": [
      "[I 2024-02-11 15:18:10,528] Trial 0 finished with value: 3.6892952323733046 and parameters: {'num_leaves': 14, 'feature_fraction': 0.8183248227189106, 'bagging_fraction': 0.812472300906022, 'min_child_samples': 11}. Best is trial 0 with value: 3.6892952323733046.\n"
     ]
    },
    {
     "name": "stdout",
     "output_type": "stream",
     "text": [
      "[LightGBM] [Warning] bagging_fraction is set=0.4674757572979183, subsample=1.0 will be ignored. Current value: bagging_fraction=0.4674757572979183\n",
      "[LightGBM] [Warning] feature_fraction is set=0.29939860862664713, colsample_bytree=1.0 will be ignored. Current value: feature_fraction=0.29939860862664713\n",
      "[LightGBM] [Warning] bagging_fraction is set=0.4674757572979183, subsample=1.0 will be ignored. Current value: bagging_fraction=0.4674757572979183\n",
      "[LightGBM] [Warning] feature_fraction is set=0.29939860862664713, colsample_bytree=1.0 will be ignored. Current value: feature_fraction=0.29939860862664713\n"
     ]
    },
    {
     "name": "stderr",
     "output_type": "stream",
     "text": [
      "[I 2024-02-11 15:19:48,542] Trial 1 finished with value: 3.557603303036331 and parameters: {'num_leaves': 168, 'feature_fraction': 0.29939860862664713, 'bagging_fraction': 0.4674757572979183, 'min_child_samples': 14}. Best is trial 1 with value: 3.557603303036331.\n"
     ]
    },
    {
     "name": "stdout",
     "output_type": "stream",
     "text": [
      "[LightGBM] [Warning] bagging_fraction is set=0.22356478408364158, subsample=1.0 will be ignored. Current value: bagging_fraction=0.22356478408364158\n",
      "[LightGBM] [Warning] feature_fraction is set=0.876910835155098, colsample_bytree=1.0 will be ignored. Current value: feature_fraction=0.876910835155098\n",
      "[LightGBM] [Warning] bagging_fraction is set=0.22356478408364158, subsample=1.0 will be ignored. Current value: bagging_fraction=0.22356478408364158\n",
      "[LightGBM] [Warning] feature_fraction is set=0.876910835155098, colsample_bytree=1.0 will be ignored. Current value: feature_fraction=0.876910835155098\n"
     ]
    },
    {
     "name": "stderr",
     "output_type": "stream",
     "text": [
      "[I 2024-02-11 15:20:10,749] Trial 2 finished with value: 3.6015206671976774 and parameters: {'num_leaves': 72, 'feature_fraction': 0.876910835155098, 'bagging_fraction': 0.22356478408364158, 'min_child_samples': 31}. Best is trial 1 with value: 3.557603303036331.\n"
     ]
    },
    {
     "name": "stdout",
     "output_type": "stream",
     "text": [
      "[LightGBM] [Warning] bagging_fraction is set=0.5732200964986196, subsample=1.0 will be ignored. Current value: bagging_fraction=0.5732200964986196\n",
      "[LightGBM] [Warning] feature_fraction is set=0.4636744141385917, colsample_bytree=1.0 will be ignored. Current value: feature_fraction=0.4636744141385917\n",
      "[LightGBM] [Warning] bagging_fraction is set=0.5732200964986196, subsample=1.0 will be ignored. Current value: bagging_fraction=0.5732200964986196\n",
      "[LightGBM] [Warning] feature_fraction is set=0.4636744141385917, colsample_bytree=1.0 will be ignored. Current value: feature_fraction=0.4636744141385917\n"
     ]
    },
    {
     "name": "stderr",
     "output_type": "stream",
     "text": [
      "[I 2024-02-11 15:20:29,545] Trial 3 finished with value: 3.4979287455030565 and parameters: {'num_leaves': 10, 'feature_fraction': 0.4636744141385917, 'bagging_fraction': 0.5732200964986196, 'min_child_samples': 96}. Best is trial 3 with value: 3.4979287455030565.\n"
     ]
    },
    {
     "name": "stdout",
     "output_type": "stream",
     "text": [
      "[LightGBM] [Warning] bagging_fraction is set=0.2862631853845501, subsample=1.0 will be ignored. Current value: bagging_fraction=0.2862631853845501\n",
      "[LightGBM] [Warning] feature_fraction is set=0.5933209188159166, colsample_bytree=1.0 will be ignored. Current value: feature_fraction=0.5933209188159166\n",
      "[LightGBM] [Warning] bagging_fraction is set=0.2862631853845501, subsample=1.0 will be ignored. Current value: bagging_fraction=0.2862631853845501\n",
      "[LightGBM] [Warning] feature_fraction is set=0.5933209188159166, colsample_bytree=1.0 will be ignored. Current value: feature_fraction=0.5933209188159166\n"
     ]
    },
    {
     "name": "stderr",
     "output_type": "stream",
     "text": [
      "[I 2024-02-11 15:21:04,920] Trial 4 finished with value: 3.6695839865553075 and parameters: {'num_leaves': 152, 'feature_fraction': 0.5933209188159166, 'bagging_fraction': 0.2862631853845501, 'min_child_samples': 15}. Best is trial 3 with value: 3.4979287455030565.\n"
     ]
    }
   ],
   "source": [
    "study = optuna.create_study(direction=\"minimize\")\n",
    "study.optimize(objective, n_trials=5)"
   ]
  },
  {
   "cell_type": "code",
   "execution_count": 8,
   "metadata": {},
   "outputs": [
    {
     "name": "stdout",
     "output_type": "stream",
     "text": [
      "best_params={'num_leaves': 10, 'feature_fraction': 0.4636744141385917, 'bagging_fraction': 0.5732200964986196, 'min_child_samples': 96}\n"
     ]
    }
   ],
   "source": [
    "best_params = study.best_trial.params\n",
    "print(f'{best_params=}')"
   ]
  },
  {
   "cell_type": "code",
   "execution_count": 9,
   "metadata": {},
   "outputs": [
    {
     "name": "stdout",
     "output_type": "stream",
     "text": [
      "[LightGBM] [Warning] bagging_fraction is set=0.5732200964986196, subsample=1.0 will be ignored. Current value: bagging_fraction=0.5732200964986196\n",
      "[LightGBM] [Warning] feature_fraction is set=0.4636744141385917, colsample_bytree=1.0 will be ignored. Current value: feature_fraction=0.4636744141385917\n"
     ]
    },
    {
     "data": {
      "text/html": [
       "<style>#sk-container-id-1 {color: black;background-color: white;}#sk-container-id-1 pre{padding: 0;}#sk-container-id-1 div.sk-toggleable {background-color: white;}#sk-container-id-1 label.sk-toggleable__label {cursor: pointer;display: block;width: 100%;margin-bottom: 0;padding: 0.3em;box-sizing: border-box;text-align: center;}#sk-container-id-1 label.sk-toggleable__label-arrow:before {content: \"▸\";float: left;margin-right: 0.25em;color: #696969;}#sk-container-id-1 label.sk-toggleable__label-arrow:hover:before {color: black;}#sk-container-id-1 div.sk-estimator:hover label.sk-toggleable__label-arrow:before {color: black;}#sk-container-id-1 div.sk-toggleable__content {max-height: 0;max-width: 0;overflow: hidden;text-align: left;background-color: #f0f8ff;}#sk-container-id-1 div.sk-toggleable__content pre {margin: 0.2em;color: black;border-radius: 0.25em;background-color: #f0f8ff;}#sk-container-id-1 input.sk-toggleable__control:checked~div.sk-toggleable__content {max-height: 200px;max-width: 100%;overflow: auto;}#sk-container-id-1 input.sk-toggleable__control:checked~label.sk-toggleable__label-arrow:before {content: \"▾\";}#sk-container-id-1 div.sk-estimator input.sk-toggleable__control:checked~label.sk-toggleable__label {background-color: #d4ebff;}#sk-container-id-1 div.sk-label input.sk-toggleable__control:checked~label.sk-toggleable__label {background-color: #d4ebff;}#sk-container-id-1 input.sk-hidden--visually {border: 0;clip: rect(1px 1px 1px 1px);clip: rect(1px, 1px, 1px, 1px);height: 1px;margin: -1px;overflow: hidden;padding: 0;position: absolute;width: 1px;}#sk-container-id-1 div.sk-estimator {font-family: monospace;background-color: #f0f8ff;border: 1px dotted black;border-radius: 0.25em;box-sizing: border-box;margin-bottom: 0.5em;}#sk-container-id-1 div.sk-estimator:hover {background-color: #d4ebff;}#sk-container-id-1 div.sk-parallel-item::after {content: \"\";width: 100%;border-bottom: 1px solid gray;flex-grow: 1;}#sk-container-id-1 div.sk-label:hover label.sk-toggleable__label {background-color: #d4ebff;}#sk-container-id-1 div.sk-serial::before {content: \"\";position: absolute;border-left: 1px solid gray;box-sizing: border-box;top: 0;bottom: 0;left: 50%;z-index: 0;}#sk-container-id-1 div.sk-serial {display: flex;flex-direction: column;align-items: center;background-color: white;padding-right: 0.2em;padding-left: 0.2em;position: relative;}#sk-container-id-1 div.sk-item {position: relative;z-index: 1;}#sk-container-id-1 div.sk-parallel {display: flex;align-items: stretch;justify-content: center;background-color: white;position: relative;}#sk-container-id-1 div.sk-item::before, #sk-container-id-1 div.sk-parallel-item::before {content: \"\";position: absolute;border-left: 1px solid gray;box-sizing: border-box;top: 0;bottom: 0;left: 50%;z-index: -1;}#sk-container-id-1 div.sk-parallel-item {display: flex;flex-direction: column;z-index: 1;position: relative;background-color: white;}#sk-container-id-1 div.sk-parallel-item:first-child::after {align-self: flex-end;width: 50%;}#sk-container-id-1 div.sk-parallel-item:last-child::after {align-self: flex-start;width: 50%;}#sk-container-id-1 div.sk-parallel-item:only-child::after {width: 0;}#sk-container-id-1 div.sk-dashed-wrapped {border: 1px dashed gray;margin: 0 0.4em 0.5em 0.4em;box-sizing: border-box;padding-bottom: 0.4em;background-color: white;}#sk-container-id-1 div.sk-label label {font-family: monospace;font-weight: bold;display: inline-block;line-height: 1.2em;}#sk-container-id-1 div.sk-label-container {text-align: center;}#sk-container-id-1 div.sk-container {/* jupyter's `normalize.less` sets `[hidden] { display: none; }` but bootstrap.min.css set `[hidden] { display: none !important; }` so we also need the `!important` here to be able to override the default hidden behavior on the sphinx rendered scikit-learn.org. See: https://github.com/scikit-learn/scikit-learn/issues/21755 */display: inline-block !important;position: relative;}#sk-container-id-1 div.sk-text-repr-fallback {display: none;}</style><div id=\"sk-container-id-1\" class=\"sk-top-container\"><div class=\"sk-text-repr-fallback\"><pre>Pipeline(steps=[(&#x27;functiontransformer&#x27;,\n",
       "                 FunctionTransformer(func=&lt;function average_rides_last_4_weeks at 0x7fe2b1cef280&gt;)),\n",
       "                (&#x27;temporalfeaturesengineer&#x27;, TemporalFeaturesEngineer()),\n",
       "                (&#x27;lgbmregressor&#x27;,\n",
       "                 LGBMRegressor(bagging_fraction=0.5732200964986196,\n",
       "                               feature_fraction=0.4636744141385917,\n",
       "                               min_child_samples=96, num_leaves=10))])</pre><b>In a Jupyter environment, please rerun this cell to show the HTML representation or trust the notebook. <br />On GitHub, the HTML representation is unable to render, please try loading this page with nbviewer.org.</b></div><div class=\"sk-container\" hidden><div class=\"sk-item sk-dashed-wrapped\"><div class=\"sk-label-container\"><div class=\"sk-label sk-toggleable\"><input class=\"sk-toggleable__control sk-hidden--visually\" id=\"sk-estimator-id-1\" type=\"checkbox\" ><label for=\"sk-estimator-id-1\" class=\"sk-toggleable__label sk-toggleable__label-arrow\">Pipeline</label><div class=\"sk-toggleable__content\"><pre>Pipeline(steps=[(&#x27;functiontransformer&#x27;,\n",
       "                 FunctionTransformer(func=&lt;function average_rides_last_4_weeks at 0x7fe2b1cef280&gt;)),\n",
       "                (&#x27;temporalfeaturesengineer&#x27;, TemporalFeaturesEngineer()),\n",
       "                (&#x27;lgbmregressor&#x27;,\n",
       "                 LGBMRegressor(bagging_fraction=0.5732200964986196,\n",
       "                               feature_fraction=0.4636744141385917,\n",
       "                               min_child_samples=96, num_leaves=10))])</pre></div></div></div><div class=\"sk-serial\"><div class=\"sk-item\"><div class=\"sk-estimator sk-toggleable\"><input class=\"sk-toggleable__control sk-hidden--visually\" id=\"sk-estimator-id-2\" type=\"checkbox\" ><label for=\"sk-estimator-id-2\" class=\"sk-toggleable__label sk-toggleable__label-arrow\">FunctionTransformer</label><div class=\"sk-toggleable__content\"><pre>FunctionTransformer(func=&lt;function average_rides_last_4_weeks at 0x7fe2b1cef280&gt;)</pre></div></div></div><div class=\"sk-item\"><div class=\"sk-estimator sk-toggleable\"><input class=\"sk-toggleable__control sk-hidden--visually\" id=\"sk-estimator-id-3\" type=\"checkbox\" ><label for=\"sk-estimator-id-3\" class=\"sk-toggleable__label sk-toggleable__label-arrow\">TemporalFeaturesEngineer</label><div class=\"sk-toggleable__content\"><pre>TemporalFeaturesEngineer()</pre></div></div></div><div class=\"sk-item\"><div class=\"sk-estimator sk-toggleable\"><input class=\"sk-toggleable__control sk-hidden--visually\" id=\"sk-estimator-id-4\" type=\"checkbox\" ><label for=\"sk-estimator-id-4\" class=\"sk-toggleable__label sk-toggleable__label-arrow\">LGBMRegressor</label><div class=\"sk-toggleable__content\"><pre>LGBMRegressor(bagging_fraction=0.5732200964986196,\n",
       "              feature_fraction=0.4636744141385917, min_child_samples=96,\n",
       "              num_leaves=10)</pre></div></div></div></div></div></div></div>"
      ],
      "text/plain": [
       "Pipeline(steps=[('functiontransformer',\n",
       "                 FunctionTransformer(func=<function average_rides_last_4_weeks at 0x7fe2b1cef280>)),\n",
       "                ('temporalfeaturesengineer', TemporalFeaturesEngineer()),\n",
       "                ('lgbmregressor',\n",
       "                 LGBMRegressor(bagging_fraction=0.5732200964986196,\n",
       "                               feature_fraction=0.4636744141385917,\n",
       "                               min_child_samples=96, num_leaves=10))])"
      ]
     },
     "execution_count": 9,
     "metadata": {},
     "output_type": "execute_result"
    }
   ],
   "source": [
    "pipeline = get_pipeline(**best_params)\n",
    "pipeline.fit(X_train, y_train)"
   ]
  },
  {
   "cell_type": "code",
   "execution_count": 10,
   "metadata": {},
   "outputs": [
    {
     "name": "stdout",
     "output_type": "stream",
     "text": [
      "test_mae=2.7514\n"
     ]
    }
   ],
   "source": [
    "predictions = pipeline.predict(X_test)\n",
    "test_mae = mean_absolute_error(y_test, predictions)\n",
    "print(f'{test_mae=:.4f}')"
   ]
  },
  {
   "cell_type": "code",
   "execution_count": 11,
   "metadata": {},
   "outputs": [
    {
     "data": {
      "application/vnd.plotly.v1+json": {
       "config": {
        "plotlyServerURL": "https://plot.ly"
       },
       "data": [
        {
         "hovertemplate": "x=%{x}<br>y=%{y}<extra></extra>",
         "legendgroup": "",
         "line": {
          "color": "#636efa",
          "dash": "solid"
         },
         "marker": {
          "symbol": "circle"
         },
         "mode": "markers+lines",
         "name": "",
         "orientation": "v",
         "showlegend": false,
         "type": "scatter",
         "x": [
          "2023-10-24T00:00:00",
          "2023-10-24T01:00:00",
          "2023-10-24T02:00:00",
          "2023-10-24T03:00:00",
          "2023-10-24T04:00:00",
          "2023-10-24T05:00:00",
          "2023-10-24T06:00:00",
          "2023-10-24T07:00:00",
          "2023-10-24T08:00:00",
          "2023-10-24T09:00:00",
          "2023-10-24T10:00:00",
          "2023-10-24T11:00:00",
          "2023-10-24T12:00:00",
          "2023-10-24T13:00:00",
          "2023-10-24T14:00:00",
          "2023-10-24T15:00:00",
          "2023-10-24T16:00:00",
          "2023-10-24T17:00:00",
          "2023-10-24T18:00:00",
          "2023-10-24T19:00:00",
          "2023-10-24T20:00:00",
          "2023-10-24T21:00:00",
          "2023-10-24T22:00:00",
          "2023-10-24T23:00:00",
          "2023-10-25T00:00:00",
          "2023-10-25T01:00:00",
          "2023-10-25T02:00:00",
          "2023-10-25T03:00:00",
          "2023-10-25T04:00:00",
          "2023-10-25T05:00:00",
          "2023-10-25T06:00:00",
          "2023-10-25T07:00:00",
          "2023-10-25T08:00:00",
          "2023-10-25T09:00:00",
          "2023-10-25T10:00:00",
          "2023-10-25T11:00:00",
          "2023-10-25T12:00:00",
          "2023-10-25T13:00:00",
          "2023-10-25T14:00:00",
          "2023-10-25T15:00:00",
          "2023-10-25T16:00:00",
          "2023-10-25T17:00:00",
          "2023-10-25T18:00:00",
          "2023-10-25T19:00:00",
          "2023-10-25T20:00:00",
          "2023-10-25T21:00:00",
          "2023-10-25T22:00:00",
          "2023-10-25T23:00:00",
          "2023-10-26T00:00:00",
          "2023-10-26T01:00:00",
          "2023-10-26T02:00:00",
          "2023-10-26T03:00:00",
          "2023-10-26T04:00:00",
          "2023-10-26T05:00:00",
          "2023-10-26T06:00:00",
          "2023-10-26T07:00:00",
          "2023-10-26T08:00:00",
          "2023-10-26T09:00:00",
          "2023-10-26T10:00:00",
          "2023-10-26T11:00:00",
          "2023-10-26T12:00:00",
          "2023-10-26T13:00:00",
          "2023-10-26T14:00:00",
          "2023-10-26T15:00:00",
          "2023-10-26T16:00:00",
          "2023-10-26T17:00:00",
          "2023-10-26T18:00:00",
          "2023-10-26T19:00:00",
          "2023-10-26T20:00:00",
          "2023-10-26T21:00:00",
          "2023-10-26T22:00:00",
          "2023-10-26T23:00:00",
          "2023-10-27T00:00:00",
          "2023-10-27T01:00:00",
          "2023-10-27T02:00:00",
          "2023-10-27T03:00:00",
          "2023-10-27T04:00:00",
          "2023-10-27T05:00:00",
          "2023-10-27T06:00:00",
          "2023-10-27T07:00:00",
          "2023-10-27T08:00:00",
          "2023-10-27T09:00:00",
          "2023-10-27T10:00:00",
          "2023-10-27T11:00:00",
          "2023-10-27T12:00:00",
          "2023-10-27T13:00:00",
          "2023-10-27T14:00:00",
          "2023-10-27T15:00:00",
          "2023-10-27T16:00:00",
          "2023-10-27T17:00:00",
          "2023-10-27T18:00:00",
          "2023-10-27T19:00:00",
          "2023-10-27T20:00:00",
          "2023-10-27T21:00:00",
          "2023-10-27T22:00:00",
          "2023-10-27T23:00:00",
          "2023-10-28T00:00:00",
          "2023-10-28T01:00:00",
          "2023-10-28T02:00:00",
          "2023-10-28T03:00:00",
          "2023-10-28T04:00:00",
          "2023-10-28T05:00:00",
          "2023-10-28T06:00:00",
          "2023-10-28T07:00:00",
          "2023-10-28T08:00:00",
          "2023-10-28T09:00:00",
          "2023-10-28T10:00:00",
          "2023-10-28T11:00:00",
          "2023-10-28T12:00:00",
          "2023-10-28T13:00:00",
          "2023-10-28T14:00:00",
          "2023-10-28T15:00:00",
          "2023-10-28T16:00:00",
          "2023-10-28T17:00:00",
          "2023-10-28T18:00:00",
          "2023-10-28T19:00:00",
          "2023-10-28T20:00:00",
          "2023-10-28T21:00:00",
          "2023-10-28T22:00:00",
          "2023-10-28T23:00:00",
          "2023-10-29T00:00:00",
          "2023-10-29T01:00:00",
          "2023-10-29T02:00:00",
          "2023-10-29T03:00:00",
          "2023-10-29T04:00:00",
          "2023-10-29T05:00:00",
          "2023-10-29T06:00:00",
          "2023-10-29T07:00:00",
          "2023-10-29T08:00:00",
          "2023-10-29T09:00:00",
          "2023-10-29T10:00:00",
          "2023-10-29T11:00:00",
          "2023-10-29T12:00:00",
          "2023-10-29T13:00:00",
          "2023-10-29T14:00:00",
          "2023-10-29T15:00:00",
          "2023-10-29T16:00:00",
          "2023-10-29T17:00:00",
          "2023-10-29T18:00:00",
          "2023-10-29T19:00:00",
          "2023-10-29T20:00:00",
          "2023-10-29T21:00:00",
          "2023-10-29T22:00:00",
          "2023-10-29T23:00:00",
          "2023-10-30T00:00:00",
          "2023-10-30T01:00:00",
          "2023-10-30T02:00:00",
          "2023-10-30T03:00:00",
          "2023-10-30T04:00:00",
          "2023-10-30T05:00:00",
          "2023-10-30T06:00:00",
          "2023-10-30T07:00:00",
          "2023-10-30T08:00:00",
          "2023-10-30T09:00:00",
          "2023-10-30T10:00:00",
          "2023-10-30T11:00:00",
          "2023-10-30T12:00:00",
          "2023-10-30T13:00:00",
          "2023-10-30T14:00:00",
          "2023-10-30T15:00:00",
          "2023-10-30T16:00:00",
          "2023-10-30T17:00:00",
          "2023-10-30T18:00:00",
          "2023-10-30T19:00:00",
          "2023-10-30T20:00:00",
          "2023-10-30T21:00:00",
          "2023-10-30T22:00:00",
          "2023-10-30T23:00:00",
          "2023-10-31T00:00:00",
          "2023-10-31T01:00:00",
          "2023-10-31T02:00:00",
          "2023-10-31T03:00:00",
          "2023-10-31T04:00:00",
          "2023-10-31T05:00:00",
          "2023-10-31T06:00:00",
          "2023-10-31T07:00:00",
          "2023-10-31T08:00:00",
          "2023-10-31T09:00:00",
          "2023-10-31T10:00:00",
          "2023-10-31T11:00:00",
          "2023-10-31T12:00:00",
          "2023-10-31T13:00:00",
          "2023-10-31T14:00:00",
          "2023-10-31T15:00:00",
          "2023-10-31T16:00:00",
          "2023-10-31T17:00:00",
          "2023-10-31T18:00:00",
          "2023-10-31T19:00:00",
          "2023-10-31T20:00:00",
          "2023-10-31T21:00:00",
          "2023-10-31T22:00:00",
          "2023-10-31T23:00:00",
          "2023-11-01T00:00:00",
          "2023-11-01T01:00:00",
          "2023-11-01T02:00:00",
          "2023-11-01T03:00:00",
          "2023-11-01T04:00:00",
          "2023-11-01T05:00:00",
          "2023-11-01T06:00:00",
          "2023-11-01T07:00:00",
          "2023-11-01T08:00:00",
          "2023-11-01T09:00:00",
          "2023-11-01T10:00:00",
          "2023-11-01T11:00:00",
          "2023-11-01T12:00:00",
          "2023-11-01T13:00:00",
          "2023-11-01T14:00:00",
          "2023-11-01T15:00:00",
          "2023-11-01T16:00:00",
          "2023-11-01T17:00:00",
          "2023-11-01T18:00:00",
          "2023-11-01T19:00:00",
          "2023-11-01T20:00:00",
          "2023-11-01T21:00:00",
          "2023-11-01T22:00:00",
          "2023-11-01T23:00:00",
          "2023-11-02T00:00:00",
          "2023-11-02T01:00:00",
          "2023-11-02T02:00:00",
          "2023-11-02T03:00:00",
          "2023-11-02T04:00:00",
          "2023-11-02T05:00:00",
          "2023-11-02T06:00:00",
          "2023-11-02T07:00:00",
          "2023-11-02T08:00:00",
          "2023-11-02T09:00:00",
          "2023-11-02T10:00:00",
          "2023-11-02T11:00:00",
          "2023-11-02T12:00:00",
          "2023-11-02T13:00:00",
          "2023-11-02T14:00:00",
          "2023-11-02T15:00:00",
          "2023-11-02T16:00:00",
          "2023-11-02T17:00:00",
          "2023-11-02T18:00:00",
          "2023-11-02T19:00:00",
          "2023-11-02T20:00:00",
          "2023-11-02T21:00:00",
          "2023-11-02T22:00:00",
          "2023-11-02T23:00:00",
          "2023-11-03T00:00:00",
          "2023-11-03T01:00:00",
          "2023-11-03T02:00:00",
          "2023-11-03T03:00:00",
          "2023-11-03T04:00:00",
          "2023-11-03T05:00:00",
          "2023-11-03T06:00:00",
          "2023-11-03T07:00:00",
          "2023-11-03T08:00:00",
          "2023-11-03T09:00:00",
          "2023-11-03T10:00:00",
          "2023-11-03T11:00:00",
          "2023-11-03T12:00:00",
          "2023-11-03T13:00:00",
          "2023-11-03T14:00:00",
          "2023-11-03T15:00:00",
          "2023-11-03T16:00:00",
          "2023-11-03T17:00:00",
          "2023-11-03T18:00:00",
          "2023-11-03T19:00:00",
          "2023-11-03T20:00:00",
          "2023-11-03T21:00:00",
          "2023-11-03T22:00:00",
          "2023-11-03T23:00:00",
          "2023-11-04T00:00:00",
          "2023-11-04T01:00:00",
          "2023-11-04T02:00:00",
          "2023-11-04T03:00:00",
          "2023-11-04T04:00:00",
          "2023-11-04T05:00:00",
          "2023-11-04T06:00:00",
          "2023-11-04T07:00:00",
          "2023-11-04T08:00:00",
          "2023-11-04T09:00:00",
          "2023-11-04T10:00:00",
          "2023-11-04T11:00:00",
          "2023-11-04T12:00:00",
          "2023-11-04T13:00:00",
          "2023-11-04T14:00:00",
          "2023-11-04T15:00:00",
          "2023-11-04T16:00:00",
          "2023-11-04T17:00:00",
          "2023-11-04T18:00:00",
          "2023-11-04T19:00:00",
          "2023-11-04T20:00:00",
          "2023-11-04T21:00:00",
          "2023-11-04T22:00:00",
          "2023-11-04T23:00:00",
          "2023-11-05T00:00:00",
          "2023-11-05T01:00:00",
          "2023-11-05T02:00:00",
          "2023-11-05T03:00:00",
          "2023-11-05T04:00:00",
          "2023-11-05T05:00:00",
          "2023-11-05T06:00:00",
          "2023-11-05T07:00:00",
          "2023-11-05T08:00:00",
          "2023-11-05T09:00:00",
          "2023-11-05T10:00:00",
          "2023-11-05T11:00:00",
          "2023-11-05T12:00:00",
          "2023-11-05T13:00:00",
          "2023-11-05T14:00:00",
          "2023-11-05T15:00:00",
          "2023-11-05T16:00:00",
          "2023-11-05T17:00:00",
          "2023-11-05T18:00:00",
          "2023-11-05T19:00:00",
          "2023-11-05T20:00:00",
          "2023-11-05T21:00:00",
          "2023-11-05T22:00:00",
          "2023-11-05T23:00:00",
          "2023-11-06T00:00:00",
          "2023-11-06T01:00:00",
          "2023-11-06T02:00:00",
          "2023-11-06T03:00:00",
          "2023-11-06T04:00:00",
          "2023-11-06T05:00:00",
          "2023-11-06T06:00:00",
          "2023-11-06T07:00:00",
          "2023-11-06T08:00:00",
          "2023-11-06T09:00:00",
          "2023-11-06T10:00:00",
          "2023-11-06T11:00:00",
          "2023-11-06T12:00:00",
          "2023-11-06T13:00:00",
          "2023-11-06T14:00:00",
          "2023-11-06T15:00:00",
          "2023-11-06T16:00:00",
          "2023-11-06T17:00:00",
          "2023-11-06T18:00:00",
          "2023-11-06T19:00:00",
          "2023-11-06T20:00:00",
          "2023-11-06T21:00:00",
          "2023-11-06T22:00:00",
          "2023-11-06T23:00:00",
          "2023-11-07T00:00:00",
          "2023-11-07T01:00:00",
          "2023-11-07T02:00:00",
          "2023-11-07T03:00:00",
          "2023-11-07T04:00:00",
          "2023-11-07T05:00:00",
          "2023-11-07T06:00:00",
          "2023-11-07T07:00:00",
          "2023-11-07T08:00:00",
          "2023-11-07T09:00:00",
          "2023-11-07T10:00:00",
          "2023-11-07T11:00:00",
          "2023-11-07T12:00:00",
          "2023-11-07T13:00:00",
          "2023-11-07T14:00:00",
          "2023-11-07T15:00:00",
          "2023-11-07T16:00:00",
          "2023-11-07T17:00:00",
          "2023-11-07T18:00:00",
          "2023-11-07T19:00:00",
          "2023-11-07T20:00:00",
          "2023-11-07T21:00:00",
          "2023-11-07T22:00:00",
          "2023-11-07T23:00:00",
          "2023-11-08T00:00:00",
          "2023-11-08T01:00:00",
          "2023-11-08T02:00:00",
          "2023-11-08T03:00:00",
          "2023-11-08T04:00:00",
          "2023-11-08T05:00:00",
          "2023-11-08T06:00:00",
          "2023-11-08T07:00:00",
          "2023-11-08T08:00:00",
          "2023-11-08T09:00:00",
          "2023-11-08T10:00:00",
          "2023-11-08T11:00:00",
          "2023-11-08T12:00:00",
          "2023-11-08T13:00:00",
          "2023-11-08T14:00:00",
          "2023-11-08T15:00:00",
          "2023-11-08T16:00:00",
          "2023-11-08T17:00:00",
          "2023-11-08T18:00:00",
          "2023-11-08T19:00:00",
          "2023-11-08T20:00:00",
          "2023-11-08T21:00:00",
          "2023-11-08T22:00:00",
          "2023-11-08T23:00:00",
          "2023-11-09T00:00:00",
          "2023-11-09T01:00:00",
          "2023-11-09T02:00:00",
          "2023-11-09T03:00:00",
          "2023-11-09T04:00:00",
          "2023-11-09T05:00:00",
          "2023-11-09T06:00:00",
          "2023-11-09T07:00:00",
          "2023-11-09T08:00:00",
          "2023-11-09T09:00:00",
          "2023-11-09T10:00:00",
          "2023-11-09T11:00:00",
          "2023-11-09T12:00:00",
          "2023-11-09T13:00:00",
          "2023-11-09T14:00:00",
          "2023-11-09T15:00:00",
          "2023-11-09T16:00:00",
          "2023-11-09T17:00:00",
          "2023-11-09T18:00:00",
          "2023-11-09T19:00:00",
          "2023-11-09T20:00:00",
          "2023-11-09T21:00:00",
          "2023-11-09T22:00:00",
          "2023-11-09T23:00:00",
          "2023-11-10T00:00:00",
          "2023-11-10T01:00:00",
          "2023-11-10T02:00:00",
          "2023-11-10T03:00:00",
          "2023-11-10T04:00:00",
          "2023-11-10T05:00:00",
          "2023-11-10T06:00:00",
          "2023-11-10T07:00:00",
          "2023-11-10T08:00:00",
          "2023-11-10T09:00:00",
          "2023-11-10T10:00:00",
          "2023-11-10T11:00:00",
          "2023-11-10T12:00:00",
          "2023-11-10T13:00:00",
          "2023-11-10T14:00:00",
          "2023-11-10T15:00:00",
          "2023-11-10T16:00:00",
          "2023-11-10T17:00:00",
          "2023-11-10T18:00:00",
          "2023-11-10T19:00:00",
          "2023-11-10T20:00:00",
          "2023-11-10T21:00:00",
          "2023-11-10T22:00:00",
          "2023-11-10T23:00:00",
          "2023-11-11T00:00:00",
          "2023-11-11T01:00:00",
          "2023-11-11T02:00:00",
          "2023-11-11T03:00:00",
          "2023-11-11T04:00:00",
          "2023-11-11T05:00:00",
          "2023-11-11T06:00:00",
          "2023-11-11T07:00:00",
          "2023-11-11T08:00:00",
          "2023-11-11T09:00:00",
          "2023-11-11T10:00:00",
          "2023-11-11T11:00:00",
          "2023-11-11T12:00:00",
          "2023-11-11T13:00:00",
          "2023-11-11T14:00:00",
          "2023-11-11T15:00:00",
          "2023-11-11T16:00:00",
          "2023-11-11T17:00:00",
          "2023-11-11T18:00:00",
          "2023-11-11T19:00:00",
          "2023-11-11T20:00:00",
          "2023-11-11T21:00:00",
          "2023-11-11T22:00:00",
          "2023-11-11T23:00:00",
          "2023-11-12T00:00:00",
          "2023-11-12T01:00:00",
          "2023-11-12T02:00:00",
          "2023-11-12T03:00:00",
          "2023-11-12T04:00:00",
          "2023-11-12T05:00:00",
          "2023-11-12T06:00:00",
          "2023-11-12T07:00:00",
          "2023-11-12T08:00:00",
          "2023-11-12T09:00:00",
          "2023-11-12T10:00:00",
          "2023-11-12T11:00:00",
          "2023-11-12T12:00:00",
          "2023-11-12T13:00:00",
          "2023-11-12T14:00:00",
          "2023-11-12T15:00:00",
          "2023-11-12T16:00:00",
          "2023-11-12T17:00:00",
          "2023-11-12T18:00:00",
          "2023-11-12T19:00:00",
          "2023-11-12T20:00:00",
          "2023-11-12T21:00:00",
          "2023-11-12T22:00:00",
          "2023-11-12T23:00:00",
          "2023-11-13T00:00:00",
          "2023-11-13T01:00:00",
          "2023-11-13T02:00:00",
          "2023-11-13T03:00:00",
          "2023-11-13T04:00:00",
          "2023-11-13T05:00:00",
          "2023-11-13T06:00:00",
          "2023-11-13T07:00:00",
          "2023-11-13T08:00:00",
          "2023-11-13T09:00:00",
          "2023-11-13T10:00:00",
          "2023-11-13T11:00:00",
          "2023-11-13T12:00:00",
          "2023-11-13T13:00:00",
          "2023-11-13T14:00:00",
          "2023-11-13T15:00:00",
          "2023-11-13T16:00:00",
          "2023-11-13T17:00:00",
          "2023-11-13T18:00:00",
          "2023-11-13T19:00:00",
          "2023-11-13T20:00:00",
          "2023-11-13T21:00:00",
          "2023-11-13T22:00:00",
          "2023-11-13T23:00:00",
          "2023-11-14T00:00:00",
          "2023-11-14T01:00:00",
          "2023-11-14T02:00:00",
          "2023-11-14T03:00:00",
          "2023-11-14T04:00:00",
          "2023-11-14T05:00:00",
          "2023-11-14T06:00:00",
          "2023-11-14T07:00:00",
          "2023-11-14T08:00:00",
          "2023-11-14T09:00:00",
          "2023-11-14T10:00:00",
          "2023-11-14T11:00:00",
          "2023-11-14T12:00:00",
          "2023-11-14T13:00:00",
          "2023-11-14T14:00:00",
          "2023-11-14T15:00:00",
          "2023-11-14T16:00:00",
          "2023-11-14T17:00:00",
          "2023-11-14T18:00:00",
          "2023-11-14T19:00:00",
          "2023-11-14T20:00:00",
          "2023-11-14T21:00:00",
          "2023-11-14T22:00:00",
          "2023-11-14T23:00:00",
          "2023-11-15T00:00:00",
          "2023-11-15T01:00:00",
          "2023-11-15T02:00:00",
          "2023-11-15T03:00:00",
          "2023-11-15T04:00:00",
          "2023-11-15T05:00:00",
          "2023-11-15T06:00:00",
          "2023-11-15T07:00:00",
          "2023-11-15T08:00:00",
          "2023-11-15T09:00:00",
          "2023-11-15T10:00:00",
          "2023-11-15T11:00:00",
          "2023-11-15T12:00:00",
          "2023-11-15T13:00:00",
          "2023-11-15T14:00:00",
          "2023-11-15T15:00:00",
          "2023-11-15T16:00:00",
          "2023-11-15T17:00:00",
          "2023-11-15T18:00:00",
          "2023-11-15T19:00:00",
          "2023-11-15T20:00:00",
          "2023-11-15T21:00:00",
          "2023-11-15T22:00:00",
          "2023-11-15T23:00:00",
          "2023-11-16T00:00:00",
          "2023-11-16T01:00:00",
          "2023-11-16T02:00:00",
          "2023-11-16T03:00:00",
          "2023-11-16T04:00:00",
          "2023-11-16T05:00:00",
          "2023-11-16T06:00:00",
          "2023-11-16T07:00:00",
          "2023-11-16T08:00:00",
          "2023-11-16T09:00:00",
          "2023-11-16T10:00:00",
          "2023-11-16T11:00:00",
          "2023-11-16T12:00:00",
          "2023-11-16T13:00:00",
          "2023-11-16T14:00:00",
          "2023-11-16T15:00:00",
          "2023-11-16T16:00:00",
          "2023-11-16T17:00:00",
          "2023-11-16T18:00:00",
          "2023-11-16T19:00:00",
          "2023-11-16T20:00:00",
          "2023-11-16T21:00:00",
          "2023-11-16T22:00:00",
          "2023-11-16T23:00:00",
          "2023-11-17T00:00:00",
          "2023-11-17T01:00:00",
          "2023-11-17T02:00:00",
          "2023-11-17T03:00:00",
          "2023-11-17T04:00:00",
          "2023-11-17T05:00:00",
          "2023-11-17T06:00:00",
          "2023-11-17T07:00:00",
          "2023-11-17T08:00:00",
          "2023-11-17T09:00:00",
          "2023-11-17T10:00:00",
          "2023-11-17T11:00:00",
          "2023-11-17T12:00:00",
          "2023-11-17T13:00:00",
          "2023-11-17T14:00:00",
          "2023-11-17T15:00:00",
          "2023-11-17T16:00:00",
          "2023-11-17T17:00:00",
          "2023-11-17T18:00:00",
          "2023-11-17T19:00:00",
          "2023-11-17T20:00:00",
          "2023-11-17T21:00:00",
          "2023-11-17T22:00:00",
          "2023-11-17T23:00:00",
          "2023-11-18T00:00:00",
          "2023-11-18T01:00:00",
          "2023-11-18T02:00:00",
          "2023-11-18T03:00:00",
          "2023-11-18T04:00:00",
          "2023-11-18T05:00:00",
          "2023-11-18T06:00:00",
          "2023-11-18T07:00:00",
          "2023-11-18T08:00:00",
          "2023-11-18T09:00:00",
          "2023-11-18T10:00:00",
          "2023-11-18T11:00:00",
          "2023-11-18T12:00:00",
          "2023-11-18T13:00:00",
          "2023-11-18T14:00:00",
          "2023-11-18T15:00:00",
          "2023-11-18T16:00:00",
          "2023-11-18T17:00:00",
          "2023-11-18T18:00:00",
          "2023-11-18T19:00:00",
          "2023-11-18T20:00:00",
          "2023-11-18T21:00:00",
          "2023-11-18T22:00:00",
          "2023-11-18T23:00:00",
          "2023-11-19T00:00:00",
          "2023-11-19T01:00:00",
          "2023-11-19T02:00:00",
          "2023-11-19T03:00:00",
          "2023-11-19T04:00:00",
          "2023-11-19T05:00:00",
          "2023-11-19T06:00:00",
          "2023-11-19T07:00:00",
          "2023-11-19T08:00:00",
          "2023-11-19T09:00:00",
          "2023-11-19T10:00:00",
          "2023-11-19T11:00:00",
          "2023-11-19T12:00:00",
          "2023-11-19T13:00:00",
          "2023-11-19T14:00:00",
          "2023-11-19T15:00:00",
          "2023-11-19T16:00:00",
          "2023-11-19T17:00:00",
          "2023-11-19T18:00:00",
          "2023-11-19T19:00:00",
          "2023-11-19T20:00:00",
          "2023-11-19T21:00:00",
          "2023-11-19T22:00:00",
          "2023-11-19T23:00:00",
          "2023-11-20T00:00:00",
          "2023-11-20T01:00:00",
          "2023-11-20T02:00:00",
          "2023-11-20T03:00:00",
          "2023-11-20T04:00:00",
          "2023-11-20T05:00:00",
          "2023-11-20T06:00:00",
          "2023-11-20T07:00:00",
          "2023-11-20T08:00:00",
          "2023-11-20T09:00:00",
          "2023-11-20T10:00:00",
          "2023-11-20T11:00:00",
          "2023-11-20T12:00:00",
          "2023-11-20T13:00:00",
          "2023-11-20T14:00:00",
          "2023-11-20T15:00:00",
          "2023-11-20T16:00:00",
          "2023-11-20T17:00:00",
          "2023-11-20T18:00:00",
          "2023-11-20T19:00:00",
          "2023-11-20T20:00:00",
          "2023-11-20T21:00:00",
          "2023-11-20T22:00:00",
          "2023-11-20T23:00:00",
          "2023-11-21T00:00:00"
         ],
         "xaxis": "x",
         "y": [
          0,
          0,
          1,
          0,
          0,
          0,
          0,
          3,
          2,
          0,
          0,
          0,
          0,
          0,
          0,
          0,
          0,
          0,
          0,
          0,
          1,
          1,
          1,
          1,
          1,
          0,
          0,
          0,
          0,
          0,
          0,
          0,
          1,
          0,
          1,
          0,
          2,
          1,
          0,
          0,
          1,
          0,
          0,
          0,
          0,
          1,
          0,
          2,
          1,
          0,
          0,
          0,
          0,
          0,
          0,
          0,
          1,
          5,
          0,
          0,
          1,
          1,
          0,
          0,
          3,
          0,
          0,
          1,
          0,
          1,
          1,
          2,
          1,
          0,
          1,
          0,
          0,
          0,
          1,
          1,
          2,
          1,
          2,
          1,
          2,
          0,
          2,
          3,
          0,
          1,
          1,
          2,
          3,
          3,
          1,
          1,
          2,
          3,
          3,
          5,
          0,
          0,
          0,
          0,
          1,
          0,
          0,
          2,
          0,
          0,
          0,
          1,
          1,
          2,
          1,
          1,
          0,
          4,
          4,
          5,
          8,
          2,
          3,
          3,
          1,
          0,
          0,
          0,
          0,
          2,
          1,
          1,
          2,
          2,
          5,
          0,
          0,
          0,
          0,
          0,
          0,
          1,
          0,
          0,
          1,
          0,
          0,
          0,
          1,
          0,
          1,
          1,
          0,
          0,
          1,
          2,
          0,
          1,
          0,
          0,
          0,
          1,
          0,
          0,
          0,
          0,
          0,
          0,
          0,
          0,
          0,
          0,
          0,
          0,
          0,
          0,
          2,
          1,
          1,
          3,
          2,
          0,
          0,
          1,
          0,
          0,
          1,
          1,
          0,
          0,
          0,
          1,
          1,
          0,
          0,
          1,
          0,
          0,
          0,
          4,
          3,
          1,
          0,
          1,
          1,
          2,
          2,
          2,
          1,
          0,
          1,
          1,
          1,
          0,
          0,
          1,
          0,
          0,
          0,
          0,
          0,
          0,
          0,
          0,
          2,
          1,
          1,
          0,
          2,
          1,
          1,
          1,
          2,
          3,
          0,
          0,
          1,
          0,
          1,
          0,
          1,
          0,
          0,
          0,
          0,
          0,
          1,
          3,
          0,
          2,
          2,
          0,
          0,
          1,
          0,
          0,
          1,
          1,
          3,
          0,
          1,
          1,
          2,
          1,
          1,
          2,
          0,
          1,
          2,
          0,
          1,
          1,
          0,
          2,
          0,
          1,
          0,
          1,
          1,
          0,
          1,
          0,
          0,
          0,
          0,
          1,
          1,
          1,
          1,
          1,
          0,
          0,
          0,
          0,
          0,
          0,
          0,
          0,
          0,
          3,
          2,
          0,
          1,
          3,
          0,
          0,
          0,
          0,
          2,
          0,
          1,
          1,
          0,
          0,
          0,
          1,
          0,
          0,
          0,
          0,
          2,
          0,
          1,
          1,
          0,
          1,
          0,
          1,
          0,
          2,
          2,
          0,
          0,
          1,
          2,
          0,
          0,
          0,
          0,
          1,
          1,
          0,
          1,
          0,
          0,
          1,
          0,
          1,
          1,
          0,
          0,
          0,
          1,
          0,
          0,
          1,
          3,
          0,
          1,
          0,
          0,
          1,
          0,
          0,
          0,
          0,
          1,
          1,
          1,
          0,
          0,
          1,
          1,
          1,
          0,
          1,
          1,
          1,
          1,
          1,
          0,
          1,
          1,
          1,
          2,
          0,
          0,
          1,
          0,
          0,
          0,
          1,
          0,
          1,
          1,
          2,
          2,
          0,
          1,
          3,
          2,
          0,
          0,
          0,
          2,
          0,
          4,
          0,
          0,
          0,
          0,
          0,
          0,
          0,
          0,
          0,
          1,
          1,
          0,
          1,
          0,
          0,
          1,
          0,
          0,
          0,
          3,
          1,
          3,
          0,
          0,
          2,
          2,
          1,
          0,
          0,
          0,
          0,
          1,
          1,
          0,
          0,
          2,
          1,
          0,
          0,
          3,
          0,
          0,
          2,
          1,
          1,
          2,
          0,
          2,
          3,
          4,
          1,
          0,
          0,
          0,
          0,
          0,
          0,
          0,
          2,
          1,
          0,
          1,
          2,
          2,
          1,
          1,
          0,
          2,
          1,
          0,
          0,
          0,
          1,
          0,
          0,
          0,
          0,
          0,
          1,
          0,
          0,
          2,
          2,
          0,
          2,
          1,
          0,
          1,
          1,
          1,
          1,
          3,
          0,
          2,
          0,
          0,
          0,
          0,
          0,
          0,
          0,
          0,
          0,
          0,
          0,
          3,
          3,
          1,
          0,
          0,
          0,
          0,
          0,
          3,
          0,
          3,
          0,
          0,
          0,
          2,
          0,
          2,
          0,
          0,
          0,
          1,
          1,
          1,
          0,
          1,
          0,
          0,
          0,
          1,
          0,
          0,
          1,
          0,
          1,
          2,
          0,
          1,
          0,
          0,
          1,
          1,
          0,
          0,
          0,
          0,
          0,
          0,
          1,
          1,
          0,
          1,
          0,
          1,
          1,
          0,
          1,
          2,
          4,
          0,
          0,
          1,
          0,
          1,
          1,
          0,
          0,
          0,
          2,
          0,
          0,
          2,
          1,
          0,
          1,
          0,
          0,
          3,
          0,
          0,
          4,
          1,
          1,
          2,
          1,
          0,
          0,
          0,
          2,
          2,
          0,
          0,
          0,
          1,
          1,
          1,
          0,
          0,
          1,
          0,
          1,
          1,
          0,
          1,
          0,
          1,
          1,
          1,
          0,
          1,
          0,
          1,
          1,
          1,
          1,
          0,
          0,
          0,
          1,
          0,
          0,
          0,
          0,
          0,
          0,
          1,
          3,
          0,
          1,
          1,
          2,
          1,
          1,
          0,
          0,
          0,
          0,
          0,
          0,
          0,
          0,
          2,
          1,
          0,
          0,
          0,
          1,
          1,
          3,
          1,
          1,
          1,
          0,
          1,
          0,
          1,
          0,
          0,
          0,
          1,
          0,
          0
         ],
         "yaxis": "y"
        },
        {
         "line": {
          "color": "green"
         },
         "marker": {
          "size": 10
         },
         "mode": "markers",
         "name": "actual value",
         "type": "scatter",
         "x": [
          "2023-11-21T00:00:00"
         ],
         "y": [
          0
         ]
        },
        {
         "line": {
          "color": "red"
         },
         "marker": {
          "size": 15,
          "symbol": "x"
         },
         "mode": "markers",
         "name": "prediction",
         "type": "scatter",
         "x": [
          "2023-11-21T00:00:00"
         ],
         "y": [
          0.20137936560525974
         ]
        }
       ],
       "layout": {
        "legend": {
         "tracegroupgap": 0
        },
        "template": {
         "data": {
          "bar": [
           {
            "error_x": {
             "color": "#f2f5fa"
            },
            "error_y": {
             "color": "#f2f5fa"
            },
            "marker": {
             "line": {
              "color": "rgb(17,17,17)",
              "width": 0.5
             },
             "pattern": {
              "fillmode": "overlay",
              "size": 10,
              "solidity": 0.2
             }
            },
            "type": "bar"
           }
          ],
          "barpolar": [
           {
            "marker": {
             "line": {
              "color": "rgb(17,17,17)",
              "width": 0.5
             },
             "pattern": {
              "fillmode": "overlay",
              "size": 10,
              "solidity": 0.2
             }
            },
            "type": "barpolar"
           }
          ],
          "carpet": [
           {
            "aaxis": {
             "endlinecolor": "#A2B1C6",
             "gridcolor": "#506784",
             "linecolor": "#506784",
             "minorgridcolor": "#506784",
             "startlinecolor": "#A2B1C6"
            },
            "baxis": {
             "endlinecolor": "#A2B1C6",
             "gridcolor": "#506784",
             "linecolor": "#506784",
             "minorgridcolor": "#506784",
             "startlinecolor": "#A2B1C6"
            },
            "type": "carpet"
           }
          ],
          "choropleth": [
           {
            "colorbar": {
             "outlinewidth": 0,
             "ticks": ""
            },
            "type": "choropleth"
           }
          ],
          "contour": [
           {
            "colorbar": {
             "outlinewidth": 0,
             "ticks": ""
            },
            "colorscale": [
             [
              0,
              "#0d0887"
             ],
             [
              0.1111111111111111,
              "#46039f"
             ],
             [
              0.2222222222222222,
              "#7201a8"
             ],
             [
              0.3333333333333333,
              "#9c179e"
             ],
             [
              0.4444444444444444,
              "#bd3786"
             ],
             [
              0.5555555555555556,
              "#d8576b"
             ],
             [
              0.6666666666666666,
              "#ed7953"
             ],
             [
              0.7777777777777778,
              "#fb9f3a"
             ],
             [
              0.8888888888888888,
              "#fdca26"
             ],
             [
              1,
              "#f0f921"
             ]
            ],
            "type": "contour"
           }
          ],
          "contourcarpet": [
           {
            "colorbar": {
             "outlinewidth": 0,
             "ticks": ""
            },
            "type": "contourcarpet"
           }
          ],
          "heatmap": [
           {
            "colorbar": {
             "outlinewidth": 0,
             "ticks": ""
            },
            "colorscale": [
             [
              0,
              "#0d0887"
             ],
             [
              0.1111111111111111,
              "#46039f"
             ],
             [
              0.2222222222222222,
              "#7201a8"
             ],
             [
              0.3333333333333333,
              "#9c179e"
             ],
             [
              0.4444444444444444,
              "#bd3786"
             ],
             [
              0.5555555555555556,
              "#d8576b"
             ],
             [
              0.6666666666666666,
              "#ed7953"
             ],
             [
              0.7777777777777778,
              "#fb9f3a"
             ],
             [
              0.8888888888888888,
              "#fdca26"
             ],
             [
              1,
              "#f0f921"
             ]
            ],
            "type": "heatmap"
           }
          ],
          "heatmapgl": [
           {
            "colorbar": {
             "outlinewidth": 0,
             "ticks": ""
            },
            "colorscale": [
             [
              0,
              "#0d0887"
             ],
             [
              0.1111111111111111,
              "#46039f"
             ],
             [
              0.2222222222222222,
              "#7201a8"
             ],
             [
              0.3333333333333333,
              "#9c179e"
             ],
             [
              0.4444444444444444,
              "#bd3786"
             ],
             [
              0.5555555555555556,
              "#d8576b"
             ],
             [
              0.6666666666666666,
              "#ed7953"
             ],
             [
              0.7777777777777778,
              "#fb9f3a"
             ],
             [
              0.8888888888888888,
              "#fdca26"
             ],
             [
              1,
              "#f0f921"
             ]
            ],
            "type": "heatmapgl"
           }
          ],
          "histogram": [
           {
            "marker": {
             "pattern": {
              "fillmode": "overlay",
              "size": 10,
              "solidity": 0.2
             }
            },
            "type": "histogram"
           }
          ],
          "histogram2d": [
           {
            "colorbar": {
             "outlinewidth": 0,
             "ticks": ""
            },
            "colorscale": [
             [
              0,
              "#0d0887"
             ],
             [
              0.1111111111111111,
              "#46039f"
             ],
             [
              0.2222222222222222,
              "#7201a8"
             ],
             [
              0.3333333333333333,
              "#9c179e"
             ],
             [
              0.4444444444444444,
              "#bd3786"
             ],
             [
              0.5555555555555556,
              "#d8576b"
             ],
             [
              0.6666666666666666,
              "#ed7953"
             ],
             [
              0.7777777777777778,
              "#fb9f3a"
             ],
             [
              0.8888888888888888,
              "#fdca26"
             ],
             [
              1,
              "#f0f921"
             ]
            ],
            "type": "histogram2d"
           }
          ],
          "histogram2dcontour": [
           {
            "colorbar": {
             "outlinewidth": 0,
             "ticks": ""
            },
            "colorscale": [
             [
              0,
              "#0d0887"
             ],
             [
              0.1111111111111111,
              "#46039f"
             ],
             [
              0.2222222222222222,
              "#7201a8"
             ],
             [
              0.3333333333333333,
              "#9c179e"
             ],
             [
              0.4444444444444444,
              "#bd3786"
             ],
             [
              0.5555555555555556,
              "#d8576b"
             ],
             [
              0.6666666666666666,
              "#ed7953"
             ],
             [
              0.7777777777777778,
              "#fb9f3a"
             ],
             [
              0.8888888888888888,
              "#fdca26"
             ],
             [
              1,
              "#f0f921"
             ]
            ],
            "type": "histogram2dcontour"
           }
          ],
          "mesh3d": [
           {
            "colorbar": {
             "outlinewidth": 0,
             "ticks": ""
            },
            "type": "mesh3d"
           }
          ],
          "parcoords": [
           {
            "line": {
             "colorbar": {
              "outlinewidth": 0,
              "ticks": ""
             }
            },
            "type": "parcoords"
           }
          ],
          "pie": [
           {
            "automargin": true,
            "type": "pie"
           }
          ],
          "scatter": [
           {
            "marker": {
             "line": {
              "color": "#283442"
             }
            },
            "type": "scatter"
           }
          ],
          "scatter3d": [
           {
            "line": {
             "colorbar": {
              "outlinewidth": 0,
              "ticks": ""
             }
            },
            "marker": {
             "colorbar": {
              "outlinewidth": 0,
              "ticks": ""
             }
            },
            "type": "scatter3d"
           }
          ],
          "scattercarpet": [
           {
            "marker": {
             "colorbar": {
              "outlinewidth": 0,
              "ticks": ""
             }
            },
            "type": "scattercarpet"
           }
          ],
          "scattergeo": [
           {
            "marker": {
             "colorbar": {
              "outlinewidth": 0,
              "ticks": ""
             }
            },
            "type": "scattergeo"
           }
          ],
          "scattergl": [
           {
            "marker": {
             "line": {
              "color": "#283442"
             }
            },
            "type": "scattergl"
           }
          ],
          "scattermapbox": [
           {
            "marker": {
             "colorbar": {
              "outlinewidth": 0,
              "ticks": ""
             }
            },
            "type": "scattermapbox"
           }
          ],
          "scatterpolar": [
           {
            "marker": {
             "colorbar": {
              "outlinewidth": 0,
              "ticks": ""
             }
            },
            "type": "scatterpolar"
           }
          ],
          "scatterpolargl": [
           {
            "marker": {
             "colorbar": {
              "outlinewidth": 0,
              "ticks": ""
             }
            },
            "type": "scatterpolargl"
           }
          ],
          "scatterternary": [
           {
            "marker": {
             "colorbar": {
              "outlinewidth": 0,
              "ticks": ""
             }
            },
            "type": "scatterternary"
           }
          ],
          "surface": [
           {
            "colorbar": {
             "outlinewidth": 0,
             "ticks": ""
            },
            "colorscale": [
             [
              0,
              "#0d0887"
             ],
             [
              0.1111111111111111,
              "#46039f"
             ],
             [
              0.2222222222222222,
              "#7201a8"
             ],
             [
              0.3333333333333333,
              "#9c179e"
             ],
             [
              0.4444444444444444,
              "#bd3786"
             ],
             [
              0.5555555555555556,
              "#d8576b"
             ],
             [
              0.6666666666666666,
              "#ed7953"
             ],
             [
              0.7777777777777778,
              "#fb9f3a"
             ],
             [
              0.8888888888888888,
              "#fdca26"
             ],
             [
              1,
              "#f0f921"
             ]
            ],
            "type": "surface"
           }
          ],
          "table": [
           {
            "cells": {
             "fill": {
              "color": "#506784"
             },
             "line": {
              "color": "rgb(17,17,17)"
             }
            },
            "header": {
             "fill": {
              "color": "#2a3f5f"
             },
             "line": {
              "color": "rgb(17,17,17)"
             }
            },
            "type": "table"
           }
          ]
         },
         "layout": {
          "annotationdefaults": {
           "arrowcolor": "#f2f5fa",
           "arrowhead": 0,
           "arrowwidth": 1
          },
          "autotypenumbers": "strict",
          "coloraxis": {
           "colorbar": {
            "outlinewidth": 0,
            "ticks": ""
           }
          },
          "colorscale": {
           "diverging": [
            [
             0,
             "#8e0152"
            ],
            [
             0.1,
             "#c51b7d"
            ],
            [
             0.2,
             "#de77ae"
            ],
            [
             0.3,
             "#f1b6da"
            ],
            [
             0.4,
             "#fde0ef"
            ],
            [
             0.5,
             "#f7f7f7"
            ],
            [
             0.6,
             "#e6f5d0"
            ],
            [
             0.7,
             "#b8e186"
            ],
            [
             0.8,
             "#7fbc41"
            ],
            [
             0.9,
             "#4d9221"
            ],
            [
             1,
             "#276419"
            ]
           ],
           "sequential": [
            [
             0,
             "#0d0887"
            ],
            [
             0.1111111111111111,
             "#46039f"
            ],
            [
             0.2222222222222222,
             "#7201a8"
            ],
            [
             0.3333333333333333,
             "#9c179e"
            ],
            [
             0.4444444444444444,
             "#bd3786"
            ],
            [
             0.5555555555555556,
             "#d8576b"
            ],
            [
             0.6666666666666666,
             "#ed7953"
            ],
            [
             0.7777777777777778,
             "#fb9f3a"
            ],
            [
             0.8888888888888888,
             "#fdca26"
            ],
            [
             1,
             "#f0f921"
            ]
           ],
           "sequentialminus": [
            [
             0,
             "#0d0887"
            ],
            [
             0.1111111111111111,
             "#46039f"
            ],
            [
             0.2222222222222222,
             "#7201a8"
            ],
            [
             0.3333333333333333,
             "#9c179e"
            ],
            [
             0.4444444444444444,
             "#bd3786"
            ],
            [
             0.5555555555555556,
             "#d8576b"
            ],
            [
             0.6666666666666666,
             "#ed7953"
            ],
            [
             0.7777777777777778,
             "#fb9f3a"
            ],
            [
             0.8888888888888888,
             "#fdca26"
            ],
            [
             1,
             "#f0f921"
            ]
           ]
          },
          "colorway": [
           "#636efa",
           "#EF553B",
           "#00cc96",
           "#ab63fa",
           "#FFA15A",
           "#19d3f3",
           "#FF6692",
           "#B6E880",
           "#FF97FF",
           "#FECB52"
          ],
          "font": {
           "color": "#f2f5fa"
          },
          "geo": {
           "bgcolor": "rgb(17,17,17)",
           "lakecolor": "rgb(17,17,17)",
           "landcolor": "rgb(17,17,17)",
           "showlakes": true,
           "showland": true,
           "subunitcolor": "#506784"
          },
          "hoverlabel": {
           "align": "left"
          },
          "hovermode": "closest",
          "mapbox": {
           "style": "dark"
          },
          "paper_bgcolor": "rgb(17,17,17)",
          "plot_bgcolor": "rgb(17,17,17)",
          "polar": {
           "angularaxis": {
            "gridcolor": "#506784",
            "linecolor": "#506784",
            "ticks": ""
           },
           "bgcolor": "rgb(17,17,17)",
           "radialaxis": {
            "gridcolor": "#506784",
            "linecolor": "#506784",
            "ticks": ""
           }
          },
          "scene": {
           "xaxis": {
            "backgroundcolor": "rgb(17,17,17)",
            "gridcolor": "#506784",
            "gridwidth": 2,
            "linecolor": "#506784",
            "showbackground": true,
            "ticks": "",
            "zerolinecolor": "#C8D4E3"
           },
           "yaxis": {
            "backgroundcolor": "rgb(17,17,17)",
            "gridcolor": "#506784",
            "gridwidth": 2,
            "linecolor": "#506784",
            "showbackground": true,
            "ticks": "",
            "zerolinecolor": "#C8D4E3"
           },
           "zaxis": {
            "backgroundcolor": "rgb(17,17,17)",
            "gridcolor": "#506784",
            "gridwidth": 2,
            "linecolor": "#506784",
            "showbackground": true,
            "ticks": "",
            "zerolinecolor": "#C8D4E3"
           }
          },
          "shapedefaults": {
           "line": {
            "color": "#f2f5fa"
           }
          },
          "sliderdefaults": {
           "bgcolor": "#C8D4E3",
           "bordercolor": "rgb(17,17,17)",
           "borderwidth": 1,
           "tickwidth": 0
          },
          "ternary": {
           "aaxis": {
            "gridcolor": "#506784",
            "linecolor": "#506784",
            "ticks": ""
           },
           "baxis": {
            "gridcolor": "#506784",
            "linecolor": "#506784",
            "ticks": ""
           },
           "bgcolor": "rgb(17,17,17)",
           "caxis": {
            "gridcolor": "#506784",
            "linecolor": "#506784",
            "ticks": ""
           }
          },
          "title": {
           "x": 0.05
          },
          "updatemenudefaults": {
           "bgcolor": "#506784",
           "borderwidth": 0
          },
          "xaxis": {
           "automargin": true,
           "gridcolor": "#283442",
           "linecolor": "#506784",
           "ticks": "",
           "title": {
            "standoff": 15
           },
           "zerolinecolor": "#283442",
           "zerolinewidth": 2
          },
          "yaxis": {
           "automargin": true,
           "gridcolor": "#283442",
           "linecolor": "#506784",
           "ticks": "",
           "title": {
            "standoff": 15
           },
           "zerolinecolor": "#283442",
           "zerolinewidth": 2
          }
         }
        },
        "title": {
         "text": "Pick up hour=2023-11-21 00:00:00, location_id=49"
        },
        "xaxis": {
         "anchor": "y",
         "domain": [
          0,
          1
         ],
         "title": {
          "text": "x"
         }
        },
        "yaxis": {
         "anchor": "x",
         "domain": [
          0,
          1
         ],
         "title": {
          "text": "y"
         }
        }
       }
      }
     },
     "metadata": {},
     "output_type": "display_data"
    }
   ],
   "source": [
    "from src.plot import plot_one_sample\n",
    "\n",
    "plot_one_sample(\n",
    "    example_id=2979,\n",
    "    features=X_test,\n",
    "    targets=y_test,\n",
    "    predictions=pd.Series(predictions)\n",
    ")"
   ]
  },
  {
   "cell_type": "code",
   "execution_count": 12,
   "metadata": {},
   "outputs": [
    {
     "data": {
      "application/vnd.plotly.v1+json": {
       "config": {
        "plotlyServerURL": "https://plot.ly"
       },
       "data": [
        {
         "hovertemplate": "x=%{x}<br>y=%{y}<extra></extra>",
         "legendgroup": "",
         "line": {
          "color": "#636efa",
          "dash": "solid"
         },
         "marker": {
          "symbol": "circle"
         },
         "mode": "markers+lines",
         "name": "",
         "orientation": "v",
         "showlegend": false,
         "type": "scatter",
         "x": [
          "2023-09-17T00:00:00",
          "2023-09-17T01:00:00",
          "2023-09-17T02:00:00",
          "2023-09-17T03:00:00",
          "2023-09-17T04:00:00",
          "2023-09-17T05:00:00",
          "2023-09-17T06:00:00",
          "2023-09-17T07:00:00",
          "2023-09-17T08:00:00",
          "2023-09-17T09:00:00",
          "2023-09-17T10:00:00",
          "2023-09-17T11:00:00",
          "2023-09-17T12:00:00",
          "2023-09-17T13:00:00",
          "2023-09-17T14:00:00",
          "2023-09-17T15:00:00",
          "2023-09-17T16:00:00",
          "2023-09-17T17:00:00",
          "2023-09-17T18:00:00",
          "2023-09-17T19:00:00",
          "2023-09-17T20:00:00",
          "2023-09-17T21:00:00",
          "2023-09-17T22:00:00",
          "2023-09-17T23:00:00",
          "2023-09-18T00:00:00",
          "2023-09-18T01:00:00",
          "2023-09-18T02:00:00",
          "2023-09-18T03:00:00",
          "2023-09-18T04:00:00",
          "2023-09-18T05:00:00",
          "2023-09-18T06:00:00",
          "2023-09-18T07:00:00",
          "2023-09-18T08:00:00",
          "2023-09-18T09:00:00",
          "2023-09-18T10:00:00",
          "2023-09-18T11:00:00",
          "2023-09-18T12:00:00",
          "2023-09-18T13:00:00",
          "2023-09-18T14:00:00",
          "2023-09-18T15:00:00",
          "2023-09-18T16:00:00",
          "2023-09-18T17:00:00",
          "2023-09-18T18:00:00",
          "2023-09-18T19:00:00",
          "2023-09-18T20:00:00",
          "2023-09-18T21:00:00",
          "2023-09-18T22:00:00",
          "2023-09-18T23:00:00",
          "2023-09-19T00:00:00",
          "2023-09-19T01:00:00",
          "2023-09-19T02:00:00",
          "2023-09-19T03:00:00",
          "2023-09-19T04:00:00",
          "2023-09-19T05:00:00",
          "2023-09-19T06:00:00",
          "2023-09-19T07:00:00",
          "2023-09-19T08:00:00",
          "2023-09-19T09:00:00",
          "2023-09-19T10:00:00",
          "2023-09-19T11:00:00",
          "2023-09-19T12:00:00",
          "2023-09-19T13:00:00",
          "2023-09-19T14:00:00",
          "2023-09-19T15:00:00",
          "2023-09-19T16:00:00",
          "2023-09-19T17:00:00",
          "2023-09-19T18:00:00",
          "2023-09-19T19:00:00",
          "2023-09-19T20:00:00",
          "2023-09-19T21:00:00",
          "2023-09-19T22:00:00",
          "2023-09-19T23:00:00",
          "2023-09-20T00:00:00",
          "2023-09-20T01:00:00",
          "2023-09-20T02:00:00",
          "2023-09-20T03:00:00",
          "2023-09-20T04:00:00",
          "2023-09-20T05:00:00",
          "2023-09-20T06:00:00",
          "2023-09-20T07:00:00",
          "2023-09-20T08:00:00",
          "2023-09-20T09:00:00",
          "2023-09-20T10:00:00",
          "2023-09-20T11:00:00",
          "2023-09-20T12:00:00",
          "2023-09-20T13:00:00",
          "2023-09-20T14:00:00",
          "2023-09-20T15:00:00",
          "2023-09-20T16:00:00",
          "2023-09-20T17:00:00",
          "2023-09-20T18:00:00",
          "2023-09-20T19:00:00",
          "2023-09-20T20:00:00",
          "2023-09-20T21:00:00",
          "2023-09-20T22:00:00",
          "2023-09-20T23:00:00",
          "2023-09-21T00:00:00",
          "2023-09-21T01:00:00",
          "2023-09-21T02:00:00",
          "2023-09-21T03:00:00",
          "2023-09-21T04:00:00",
          "2023-09-21T05:00:00",
          "2023-09-21T06:00:00",
          "2023-09-21T07:00:00",
          "2023-09-21T08:00:00",
          "2023-09-21T09:00:00",
          "2023-09-21T10:00:00",
          "2023-09-21T11:00:00",
          "2023-09-21T12:00:00",
          "2023-09-21T13:00:00",
          "2023-09-21T14:00:00",
          "2023-09-21T15:00:00",
          "2023-09-21T16:00:00",
          "2023-09-21T17:00:00",
          "2023-09-21T18:00:00",
          "2023-09-21T19:00:00",
          "2023-09-21T20:00:00",
          "2023-09-21T21:00:00",
          "2023-09-21T22:00:00",
          "2023-09-21T23:00:00",
          "2023-09-22T00:00:00",
          "2023-09-22T01:00:00",
          "2023-09-22T02:00:00",
          "2023-09-22T03:00:00",
          "2023-09-22T04:00:00",
          "2023-09-22T05:00:00",
          "2023-09-22T06:00:00",
          "2023-09-22T07:00:00",
          "2023-09-22T08:00:00",
          "2023-09-22T09:00:00",
          "2023-09-22T10:00:00",
          "2023-09-22T11:00:00",
          "2023-09-22T12:00:00",
          "2023-09-22T13:00:00",
          "2023-09-22T14:00:00",
          "2023-09-22T15:00:00",
          "2023-09-22T16:00:00",
          "2023-09-22T17:00:00",
          "2023-09-22T18:00:00",
          "2023-09-22T19:00:00",
          "2023-09-22T20:00:00",
          "2023-09-22T21:00:00",
          "2023-09-22T22:00:00",
          "2023-09-22T23:00:00",
          "2023-09-23T00:00:00",
          "2023-09-23T01:00:00",
          "2023-09-23T02:00:00",
          "2023-09-23T03:00:00",
          "2023-09-23T04:00:00",
          "2023-09-23T05:00:00",
          "2023-09-23T06:00:00",
          "2023-09-23T07:00:00",
          "2023-09-23T08:00:00",
          "2023-09-23T09:00:00",
          "2023-09-23T10:00:00",
          "2023-09-23T11:00:00",
          "2023-09-23T12:00:00",
          "2023-09-23T13:00:00",
          "2023-09-23T14:00:00",
          "2023-09-23T15:00:00",
          "2023-09-23T16:00:00",
          "2023-09-23T17:00:00",
          "2023-09-23T18:00:00",
          "2023-09-23T19:00:00",
          "2023-09-23T20:00:00",
          "2023-09-23T21:00:00",
          "2023-09-23T22:00:00",
          "2023-09-23T23:00:00",
          "2023-09-24T00:00:00",
          "2023-09-24T01:00:00",
          "2023-09-24T02:00:00",
          "2023-09-24T03:00:00",
          "2023-09-24T04:00:00",
          "2023-09-24T05:00:00",
          "2023-09-24T06:00:00",
          "2023-09-24T07:00:00",
          "2023-09-24T08:00:00",
          "2023-09-24T09:00:00",
          "2023-09-24T10:00:00",
          "2023-09-24T11:00:00",
          "2023-09-24T12:00:00",
          "2023-09-24T13:00:00",
          "2023-09-24T14:00:00",
          "2023-09-24T15:00:00",
          "2023-09-24T16:00:00",
          "2023-09-24T17:00:00",
          "2023-09-24T18:00:00",
          "2023-09-24T19:00:00",
          "2023-09-24T20:00:00",
          "2023-09-24T21:00:00",
          "2023-09-24T22:00:00",
          "2023-09-24T23:00:00",
          "2023-09-25T00:00:00",
          "2023-09-25T01:00:00",
          "2023-09-25T02:00:00",
          "2023-09-25T03:00:00",
          "2023-09-25T04:00:00",
          "2023-09-25T05:00:00",
          "2023-09-25T06:00:00",
          "2023-09-25T07:00:00",
          "2023-09-25T08:00:00",
          "2023-09-25T09:00:00",
          "2023-09-25T10:00:00",
          "2023-09-25T11:00:00",
          "2023-09-25T12:00:00",
          "2023-09-25T13:00:00",
          "2023-09-25T14:00:00",
          "2023-09-25T15:00:00",
          "2023-09-25T16:00:00",
          "2023-09-25T17:00:00",
          "2023-09-25T18:00:00",
          "2023-09-25T19:00:00",
          "2023-09-25T20:00:00",
          "2023-09-25T21:00:00",
          "2023-09-25T22:00:00",
          "2023-09-25T23:00:00",
          "2023-09-26T00:00:00",
          "2023-09-26T01:00:00",
          "2023-09-26T02:00:00",
          "2023-09-26T03:00:00",
          "2023-09-26T04:00:00",
          "2023-09-26T05:00:00",
          "2023-09-26T06:00:00",
          "2023-09-26T07:00:00",
          "2023-09-26T08:00:00",
          "2023-09-26T09:00:00",
          "2023-09-26T10:00:00",
          "2023-09-26T11:00:00",
          "2023-09-26T12:00:00",
          "2023-09-26T13:00:00",
          "2023-09-26T14:00:00",
          "2023-09-26T15:00:00",
          "2023-09-26T16:00:00",
          "2023-09-26T17:00:00",
          "2023-09-26T18:00:00",
          "2023-09-26T19:00:00",
          "2023-09-26T20:00:00",
          "2023-09-26T21:00:00",
          "2023-09-26T22:00:00",
          "2023-09-26T23:00:00",
          "2023-09-27T00:00:00",
          "2023-09-27T01:00:00",
          "2023-09-27T02:00:00",
          "2023-09-27T03:00:00",
          "2023-09-27T04:00:00",
          "2023-09-27T05:00:00",
          "2023-09-27T06:00:00",
          "2023-09-27T07:00:00",
          "2023-09-27T08:00:00",
          "2023-09-27T09:00:00",
          "2023-09-27T10:00:00",
          "2023-09-27T11:00:00",
          "2023-09-27T12:00:00",
          "2023-09-27T13:00:00",
          "2023-09-27T14:00:00",
          "2023-09-27T15:00:00",
          "2023-09-27T16:00:00",
          "2023-09-27T17:00:00",
          "2023-09-27T18:00:00",
          "2023-09-27T19:00:00",
          "2023-09-27T20:00:00",
          "2023-09-27T21:00:00",
          "2023-09-27T22:00:00",
          "2023-09-27T23:00:00",
          "2023-09-28T00:00:00",
          "2023-09-28T01:00:00",
          "2023-09-28T02:00:00",
          "2023-09-28T03:00:00",
          "2023-09-28T04:00:00",
          "2023-09-28T05:00:00",
          "2023-09-28T06:00:00",
          "2023-09-28T07:00:00",
          "2023-09-28T08:00:00",
          "2023-09-28T09:00:00",
          "2023-09-28T10:00:00",
          "2023-09-28T11:00:00",
          "2023-09-28T12:00:00",
          "2023-09-28T13:00:00",
          "2023-09-28T14:00:00",
          "2023-09-28T15:00:00",
          "2023-09-28T16:00:00",
          "2023-09-28T17:00:00",
          "2023-09-28T18:00:00",
          "2023-09-28T19:00:00",
          "2023-09-28T20:00:00",
          "2023-09-28T21:00:00",
          "2023-09-28T22:00:00",
          "2023-09-28T23:00:00",
          "2023-09-29T00:00:00",
          "2023-09-29T01:00:00",
          "2023-09-29T02:00:00",
          "2023-09-29T03:00:00",
          "2023-09-29T04:00:00",
          "2023-09-29T05:00:00",
          "2023-09-29T06:00:00",
          "2023-09-29T07:00:00",
          "2023-09-29T08:00:00",
          "2023-09-29T09:00:00",
          "2023-09-29T10:00:00",
          "2023-09-29T11:00:00",
          "2023-09-29T12:00:00",
          "2023-09-29T13:00:00",
          "2023-09-29T14:00:00",
          "2023-09-29T15:00:00",
          "2023-09-29T16:00:00",
          "2023-09-29T17:00:00",
          "2023-09-29T18:00:00",
          "2023-09-29T19:00:00",
          "2023-09-29T20:00:00",
          "2023-09-29T21:00:00",
          "2023-09-29T22:00:00",
          "2023-09-29T23:00:00",
          "2023-09-30T00:00:00",
          "2023-09-30T01:00:00",
          "2023-09-30T02:00:00",
          "2023-09-30T03:00:00",
          "2023-09-30T04:00:00",
          "2023-09-30T05:00:00",
          "2023-09-30T06:00:00",
          "2023-09-30T07:00:00",
          "2023-09-30T08:00:00",
          "2023-09-30T09:00:00",
          "2023-09-30T10:00:00",
          "2023-09-30T11:00:00",
          "2023-09-30T12:00:00",
          "2023-09-30T13:00:00",
          "2023-09-30T14:00:00",
          "2023-09-30T15:00:00",
          "2023-09-30T16:00:00",
          "2023-09-30T17:00:00",
          "2023-09-30T18:00:00",
          "2023-09-30T19:00:00",
          "2023-09-30T20:00:00",
          "2023-09-30T21:00:00",
          "2023-09-30T22:00:00",
          "2023-09-30T23:00:00",
          "2023-10-01T00:00:00",
          "2023-10-01T01:00:00",
          "2023-10-01T02:00:00",
          "2023-10-01T03:00:00",
          "2023-10-01T04:00:00",
          "2023-10-01T05:00:00",
          "2023-10-01T06:00:00",
          "2023-10-01T07:00:00",
          "2023-10-01T08:00:00",
          "2023-10-01T09:00:00",
          "2023-10-01T10:00:00",
          "2023-10-01T11:00:00",
          "2023-10-01T12:00:00",
          "2023-10-01T13:00:00",
          "2023-10-01T14:00:00",
          "2023-10-01T15:00:00",
          "2023-10-01T16:00:00",
          "2023-10-01T17:00:00",
          "2023-10-01T18:00:00",
          "2023-10-01T19:00:00",
          "2023-10-01T20:00:00",
          "2023-10-01T21:00:00",
          "2023-10-01T22:00:00",
          "2023-10-01T23:00:00",
          "2023-10-02T00:00:00",
          "2023-10-02T01:00:00",
          "2023-10-02T02:00:00",
          "2023-10-02T03:00:00",
          "2023-10-02T04:00:00",
          "2023-10-02T05:00:00",
          "2023-10-02T06:00:00",
          "2023-10-02T07:00:00",
          "2023-10-02T08:00:00",
          "2023-10-02T09:00:00",
          "2023-10-02T10:00:00",
          "2023-10-02T11:00:00",
          "2023-10-02T12:00:00",
          "2023-10-02T13:00:00",
          "2023-10-02T14:00:00",
          "2023-10-02T15:00:00",
          "2023-10-02T16:00:00",
          "2023-10-02T17:00:00",
          "2023-10-02T18:00:00",
          "2023-10-02T19:00:00",
          "2023-10-02T20:00:00",
          "2023-10-02T21:00:00",
          "2023-10-02T22:00:00",
          "2023-10-02T23:00:00",
          "2023-10-03T00:00:00",
          "2023-10-03T01:00:00",
          "2023-10-03T02:00:00",
          "2023-10-03T03:00:00",
          "2023-10-03T04:00:00",
          "2023-10-03T05:00:00",
          "2023-10-03T06:00:00",
          "2023-10-03T07:00:00",
          "2023-10-03T08:00:00",
          "2023-10-03T09:00:00",
          "2023-10-03T10:00:00",
          "2023-10-03T11:00:00",
          "2023-10-03T12:00:00",
          "2023-10-03T13:00:00",
          "2023-10-03T14:00:00",
          "2023-10-03T15:00:00",
          "2023-10-03T16:00:00",
          "2023-10-03T17:00:00",
          "2023-10-03T18:00:00",
          "2023-10-03T19:00:00",
          "2023-10-03T20:00:00",
          "2023-10-03T21:00:00",
          "2023-10-03T22:00:00",
          "2023-10-03T23:00:00",
          "2023-10-04T00:00:00",
          "2023-10-04T01:00:00",
          "2023-10-04T02:00:00",
          "2023-10-04T03:00:00",
          "2023-10-04T04:00:00",
          "2023-10-04T05:00:00",
          "2023-10-04T06:00:00",
          "2023-10-04T07:00:00",
          "2023-10-04T08:00:00",
          "2023-10-04T09:00:00",
          "2023-10-04T10:00:00",
          "2023-10-04T11:00:00",
          "2023-10-04T12:00:00",
          "2023-10-04T13:00:00",
          "2023-10-04T14:00:00",
          "2023-10-04T15:00:00",
          "2023-10-04T16:00:00",
          "2023-10-04T17:00:00",
          "2023-10-04T18:00:00",
          "2023-10-04T19:00:00",
          "2023-10-04T20:00:00",
          "2023-10-04T21:00:00",
          "2023-10-04T22:00:00",
          "2023-10-04T23:00:00",
          "2023-10-05T00:00:00",
          "2023-10-05T01:00:00",
          "2023-10-05T02:00:00",
          "2023-10-05T03:00:00",
          "2023-10-05T04:00:00",
          "2023-10-05T05:00:00",
          "2023-10-05T06:00:00",
          "2023-10-05T07:00:00",
          "2023-10-05T08:00:00",
          "2023-10-05T09:00:00",
          "2023-10-05T10:00:00",
          "2023-10-05T11:00:00",
          "2023-10-05T12:00:00",
          "2023-10-05T13:00:00",
          "2023-10-05T14:00:00",
          "2023-10-05T15:00:00",
          "2023-10-05T16:00:00",
          "2023-10-05T17:00:00",
          "2023-10-05T18:00:00",
          "2023-10-05T19:00:00",
          "2023-10-05T20:00:00",
          "2023-10-05T21:00:00",
          "2023-10-05T22:00:00",
          "2023-10-05T23:00:00",
          "2023-10-06T00:00:00",
          "2023-10-06T01:00:00",
          "2023-10-06T02:00:00",
          "2023-10-06T03:00:00",
          "2023-10-06T04:00:00",
          "2023-10-06T05:00:00",
          "2023-10-06T06:00:00",
          "2023-10-06T07:00:00",
          "2023-10-06T08:00:00",
          "2023-10-06T09:00:00",
          "2023-10-06T10:00:00",
          "2023-10-06T11:00:00",
          "2023-10-06T12:00:00",
          "2023-10-06T13:00:00",
          "2023-10-06T14:00:00",
          "2023-10-06T15:00:00",
          "2023-10-06T16:00:00",
          "2023-10-06T17:00:00",
          "2023-10-06T18:00:00",
          "2023-10-06T19:00:00",
          "2023-10-06T20:00:00",
          "2023-10-06T21:00:00",
          "2023-10-06T22:00:00",
          "2023-10-06T23:00:00",
          "2023-10-07T00:00:00",
          "2023-10-07T01:00:00",
          "2023-10-07T02:00:00",
          "2023-10-07T03:00:00",
          "2023-10-07T04:00:00",
          "2023-10-07T05:00:00",
          "2023-10-07T06:00:00",
          "2023-10-07T07:00:00",
          "2023-10-07T08:00:00",
          "2023-10-07T09:00:00",
          "2023-10-07T10:00:00",
          "2023-10-07T11:00:00",
          "2023-10-07T12:00:00",
          "2023-10-07T13:00:00",
          "2023-10-07T14:00:00",
          "2023-10-07T15:00:00",
          "2023-10-07T16:00:00",
          "2023-10-07T17:00:00",
          "2023-10-07T18:00:00",
          "2023-10-07T19:00:00",
          "2023-10-07T20:00:00",
          "2023-10-07T21:00:00",
          "2023-10-07T22:00:00",
          "2023-10-07T23:00:00",
          "2023-10-08T00:00:00",
          "2023-10-08T01:00:00",
          "2023-10-08T02:00:00",
          "2023-10-08T03:00:00",
          "2023-10-08T04:00:00",
          "2023-10-08T05:00:00",
          "2023-10-08T06:00:00",
          "2023-10-08T07:00:00",
          "2023-10-08T08:00:00",
          "2023-10-08T09:00:00",
          "2023-10-08T10:00:00",
          "2023-10-08T11:00:00",
          "2023-10-08T12:00:00",
          "2023-10-08T13:00:00",
          "2023-10-08T14:00:00",
          "2023-10-08T15:00:00",
          "2023-10-08T16:00:00",
          "2023-10-08T17:00:00",
          "2023-10-08T18:00:00",
          "2023-10-08T19:00:00",
          "2023-10-08T20:00:00",
          "2023-10-08T21:00:00",
          "2023-10-08T22:00:00",
          "2023-10-08T23:00:00",
          "2023-10-09T00:00:00",
          "2023-10-09T01:00:00",
          "2023-10-09T02:00:00",
          "2023-10-09T03:00:00",
          "2023-10-09T04:00:00",
          "2023-10-09T05:00:00",
          "2023-10-09T06:00:00",
          "2023-10-09T07:00:00",
          "2023-10-09T08:00:00",
          "2023-10-09T09:00:00",
          "2023-10-09T10:00:00",
          "2023-10-09T11:00:00",
          "2023-10-09T12:00:00",
          "2023-10-09T13:00:00",
          "2023-10-09T14:00:00",
          "2023-10-09T15:00:00",
          "2023-10-09T16:00:00",
          "2023-10-09T17:00:00",
          "2023-10-09T18:00:00",
          "2023-10-09T19:00:00",
          "2023-10-09T20:00:00",
          "2023-10-09T21:00:00",
          "2023-10-09T22:00:00",
          "2023-10-09T23:00:00",
          "2023-10-10T00:00:00",
          "2023-10-10T01:00:00",
          "2023-10-10T02:00:00",
          "2023-10-10T03:00:00",
          "2023-10-10T04:00:00",
          "2023-10-10T05:00:00",
          "2023-10-10T06:00:00",
          "2023-10-10T07:00:00",
          "2023-10-10T08:00:00",
          "2023-10-10T09:00:00",
          "2023-10-10T10:00:00",
          "2023-10-10T11:00:00",
          "2023-10-10T12:00:00",
          "2023-10-10T13:00:00",
          "2023-10-10T14:00:00",
          "2023-10-10T15:00:00",
          "2023-10-10T16:00:00",
          "2023-10-10T17:00:00",
          "2023-10-10T18:00:00",
          "2023-10-10T19:00:00",
          "2023-10-10T20:00:00",
          "2023-10-10T21:00:00",
          "2023-10-10T22:00:00",
          "2023-10-10T23:00:00",
          "2023-10-11T00:00:00",
          "2023-10-11T01:00:00",
          "2023-10-11T02:00:00",
          "2023-10-11T03:00:00",
          "2023-10-11T04:00:00",
          "2023-10-11T05:00:00",
          "2023-10-11T06:00:00",
          "2023-10-11T07:00:00",
          "2023-10-11T08:00:00",
          "2023-10-11T09:00:00",
          "2023-10-11T10:00:00",
          "2023-10-11T11:00:00",
          "2023-10-11T12:00:00",
          "2023-10-11T13:00:00",
          "2023-10-11T14:00:00",
          "2023-10-11T15:00:00",
          "2023-10-11T16:00:00",
          "2023-10-11T17:00:00",
          "2023-10-11T18:00:00",
          "2023-10-11T19:00:00",
          "2023-10-11T20:00:00",
          "2023-10-11T21:00:00",
          "2023-10-11T22:00:00",
          "2023-10-11T23:00:00",
          "2023-10-12T00:00:00",
          "2023-10-12T01:00:00",
          "2023-10-12T02:00:00",
          "2023-10-12T03:00:00",
          "2023-10-12T04:00:00",
          "2023-10-12T05:00:00",
          "2023-10-12T06:00:00",
          "2023-10-12T07:00:00",
          "2023-10-12T08:00:00",
          "2023-10-12T09:00:00",
          "2023-10-12T10:00:00",
          "2023-10-12T11:00:00",
          "2023-10-12T12:00:00",
          "2023-10-12T13:00:00",
          "2023-10-12T14:00:00",
          "2023-10-12T15:00:00",
          "2023-10-12T16:00:00",
          "2023-10-12T17:00:00",
          "2023-10-12T18:00:00",
          "2023-10-12T19:00:00",
          "2023-10-12T20:00:00",
          "2023-10-12T21:00:00",
          "2023-10-12T22:00:00",
          "2023-10-12T23:00:00",
          "2023-10-13T00:00:00",
          "2023-10-13T01:00:00",
          "2023-10-13T02:00:00",
          "2023-10-13T03:00:00",
          "2023-10-13T04:00:00",
          "2023-10-13T05:00:00",
          "2023-10-13T06:00:00",
          "2023-10-13T07:00:00",
          "2023-10-13T08:00:00",
          "2023-10-13T09:00:00",
          "2023-10-13T10:00:00",
          "2023-10-13T11:00:00",
          "2023-10-13T12:00:00",
          "2023-10-13T13:00:00",
          "2023-10-13T14:00:00",
          "2023-10-13T15:00:00",
          "2023-10-13T16:00:00",
          "2023-10-13T17:00:00",
          "2023-10-13T18:00:00",
          "2023-10-13T19:00:00",
          "2023-10-13T20:00:00",
          "2023-10-13T21:00:00",
          "2023-10-13T22:00:00",
          "2023-10-13T23:00:00",
          "2023-10-14T00:00:00",
          "2023-10-14T01:00:00",
          "2023-10-14T02:00:00",
          "2023-10-14T03:00:00",
          "2023-10-14T04:00:00",
          "2023-10-14T05:00:00",
          "2023-10-14T06:00:00",
          "2023-10-14T07:00:00",
          "2023-10-14T08:00:00",
          "2023-10-14T09:00:00",
          "2023-10-14T10:00:00",
          "2023-10-14T11:00:00",
          "2023-10-14T12:00:00",
          "2023-10-14T13:00:00",
          "2023-10-14T14:00:00",
          "2023-10-14T15:00:00",
          "2023-10-14T16:00:00",
          "2023-10-14T17:00:00",
          "2023-10-14T18:00:00",
          "2023-10-14T19:00:00",
          "2023-10-14T20:00:00",
          "2023-10-14T21:00:00",
          "2023-10-14T22:00:00",
          "2023-10-14T23:00:00",
          "2023-10-15T00:00:00"
         ],
         "xaxis": "x",
         "y": [
          2,
          1,
          0,
          0,
          0,
          0,
          0,
          0,
          1,
          0,
          0,
          1,
          2,
          7,
          1,
          2,
          0,
          4,
          5,
          3,
          2,
          3,
          2,
          0,
          0,
          0,
          0,
          0,
          0,
          0,
          1,
          1,
          4,
          1,
          0,
          2,
          0,
          0,
          1,
          0,
          1,
          2,
          3,
          1,
          2,
          4,
          1,
          0,
          0,
          0,
          0,
          0,
          0,
          0,
          1,
          0,
          0,
          0,
          0,
          1,
          1,
          2,
          1,
          1,
          0,
          2,
          2,
          2,
          3,
          1,
          0,
          3,
          0,
          0,
          0,
          0,
          0,
          0,
          0,
          1,
          5,
          0,
          0,
          0,
          0,
          2,
          0,
          0,
          3,
          2,
          1,
          4,
          1,
          5,
          8,
          0,
          0,
          0,
          0,
          0,
          0,
          1,
          2,
          1,
          5,
          1,
          1,
          1,
          0,
          0,
          1,
          0,
          1,
          1,
          0,
          0,
          0,
          0,
          1,
          1,
          0,
          0,
          0,
          0,
          0,
          0,
          1,
          0,
          2,
          0,
          0,
          0,
          0,
          1,
          2,
          2,
          0,
          0,
          2,
          0,
          1,
          0,
          1,
          2,
          5,
          1,
          0,
          0,
          0,
          0,
          0,
          2,
          0,
          0,
          0,
          0,
          0,
          1,
          0,
          1,
          0,
          0,
          0,
          0,
          0,
          0,
          2,
          1,
          0,
          1,
          0,
          0,
          0,
          0,
          0,
          0,
          0,
          1,
          0,
          0,
          1,
          0,
          1,
          1,
          2,
          1,
          2,
          2,
          1,
          0,
          0,
          0,
          0,
          0,
          0,
          0,
          0,
          0,
          1,
          0,
          1,
          1,
          0,
          2,
          0,
          0,
          0,
          2,
          0,
          2,
          3,
          0,
          0,
          0,
          2,
          0,
          0,
          0,
          0,
          0,
          0,
          0,
          0,
          1,
          2,
          0,
          0,
          0,
          2,
          4,
          3,
          0,
          1,
          1,
          1,
          1,
          2,
          2,
          2,
          0,
          1,
          0,
          1,
          1,
          0,
          0,
          2,
          0,
          1,
          3,
          0,
          1,
          0,
          3,
          2,
          1,
          2,
          1,
          2,
          6,
          5,
          0,
          3,
          1,
          1,
          0,
          0,
          0,
          0,
          0,
          1,
          2,
          1,
          0,
          1,
          1,
          3,
          1,
          4,
          1,
          2,
          2,
          4,
          7,
          0,
          3,
          3,
          1,
          4,
          0,
          0,
          0,
          0,
          0,
          2,
          1,
          2,
          4,
          3,
          3,
          1,
          3,
          6,
          6,
          5,
          4,
          4,
          4,
          1,
          0,
          1,
          2,
          1,
          0,
          0,
          0,
          0,
          0,
          0,
          0,
          0,
          0,
          0,
          1,
          0,
          6,
          8,
          0,
          1,
          2,
          0,
          6,
          4,
          7,
          5,
          3,
          2,
          0,
          0,
          1,
          1,
          0,
          0,
          1,
          0,
          1,
          2,
          3,
          6,
          7,
          4,
          5,
          8,
          5,
          3,
          3,
          2,
          1,
          0,
          0,
          0,
          0,
          0,
          0,
          0,
          1,
          0,
          3,
          1,
          0,
          0,
          0,
          2,
          1,
          1,
          1,
          2,
          1,
          8,
          3,
          0,
          1,
          3,
          1,
          1,
          0,
          0,
          0,
          1,
          0,
          0,
          7,
          0,
          1,
          0,
          2,
          5,
          1,
          1,
          2,
          5,
          2,
          1,
          5,
          5,
          3,
          1,
          0,
          0,
          0,
          0,
          0,
          1,
          0,
          1,
          1,
          2,
          2,
          2,
          5,
          3,
          0,
          2,
          4,
          0,
          4,
          7,
          5,
          6,
          3,
          3,
          2,
          0,
          0,
          0,
          1,
          1,
          0,
          2,
          0,
          3,
          1,
          0,
          1,
          1,
          1,
          3,
          3,
          0,
          4,
          3,
          7,
          3,
          6,
          2,
          3,
          0,
          0,
          0,
          0,
          0,
          0,
          0,
          0,
          0,
          0,
          0,
          0,
          3,
          1,
          1,
          2,
          5,
          2,
          5,
          1,
          1,
          2,
          2,
          6,
          2,
          3,
          0,
          1,
          0,
          0,
          0,
          0,
          0,
          0,
          1,
          0,
          2,
          4,
          4,
          0,
          0,
          2,
          3,
          1,
          2,
          2,
          1,
          2,
          2,
          0,
          0,
          1,
          0,
          0,
          0,
          0,
          0,
          3,
          0,
          4,
          1,
          4,
          4,
          6,
          6,
          1,
          9,
          3,
          0,
          1,
          2,
          2,
          0,
          0,
          0,
          0,
          0,
          0,
          1,
          0,
          1,
          1,
          0,
          0,
          3,
          3,
          2,
          3,
          2,
          1,
          4,
          1,
          2,
          0,
          0,
          0,
          0,
          0,
          0,
          0,
          0,
          0,
          1,
          1,
          3,
          0,
          1,
          1,
          1,
          0,
          2,
          0,
          0,
          1,
          3,
          1,
          0,
          2,
          0,
          0,
          0,
          0,
          0,
          0,
          0,
          0,
          0,
          3,
          1,
          0,
          1,
          2,
          0,
          2,
          1,
          1,
          1,
          1,
          4,
          3,
          0,
          3,
          6,
          2,
          1,
          1,
          0,
          0,
          1,
          0,
          1,
          2,
          1,
          2,
          1,
          3,
          0,
          1,
          3,
          1,
          1,
          3,
          7,
          5,
          6,
          3,
          3,
          1,
          0,
          1,
          0,
          0,
          0,
          0,
          0,
          1,
          1,
          0,
          2,
          4,
          2,
          2,
          4,
          2,
          2,
          4,
          4,
          4,
          1,
          0,
          2,
          2,
          3,
          3,
          0,
          0,
          0,
          0,
          0,
          1,
          0,
          1,
          3,
          0,
          3,
          4,
          1,
          1,
          1,
          4,
          0,
          2,
          1,
          1,
          0,
          5,
          1
         ],
         "yaxis": "y"
        },
        {
         "line": {
          "color": "green"
         },
         "marker": {
          "size": 10
         },
         "mode": "markers",
         "name": "actual value",
         "type": "scatter",
         "x": [
          "2023-10-15T00:00:00"
         ],
         "y": [
          1
         ]
        },
        {
         "line": {
          "color": "red"
         },
         "marker": {
          "size": 15,
          "symbol": "x"
         },
         "mode": "markers",
         "name": "prediction",
         "type": "scatter",
         "x": [
          "2023-10-15T00:00:00"
         ],
         "y": [
          1.5552630456382992
         ]
        }
       ],
       "layout": {
        "legend": {
         "tracegroupgap": 0
        },
        "template": {
         "data": {
          "bar": [
           {
            "error_x": {
             "color": "#f2f5fa"
            },
            "error_y": {
             "color": "#f2f5fa"
            },
            "marker": {
             "line": {
              "color": "rgb(17,17,17)",
              "width": 0.5
             },
             "pattern": {
              "fillmode": "overlay",
              "size": 10,
              "solidity": 0.2
             }
            },
            "type": "bar"
           }
          ],
          "barpolar": [
           {
            "marker": {
             "line": {
              "color": "rgb(17,17,17)",
              "width": 0.5
             },
             "pattern": {
              "fillmode": "overlay",
              "size": 10,
              "solidity": 0.2
             }
            },
            "type": "barpolar"
           }
          ],
          "carpet": [
           {
            "aaxis": {
             "endlinecolor": "#A2B1C6",
             "gridcolor": "#506784",
             "linecolor": "#506784",
             "minorgridcolor": "#506784",
             "startlinecolor": "#A2B1C6"
            },
            "baxis": {
             "endlinecolor": "#A2B1C6",
             "gridcolor": "#506784",
             "linecolor": "#506784",
             "minorgridcolor": "#506784",
             "startlinecolor": "#A2B1C6"
            },
            "type": "carpet"
           }
          ],
          "choropleth": [
           {
            "colorbar": {
             "outlinewidth": 0,
             "ticks": ""
            },
            "type": "choropleth"
           }
          ],
          "contour": [
           {
            "colorbar": {
             "outlinewidth": 0,
             "ticks": ""
            },
            "colorscale": [
             [
              0,
              "#0d0887"
             ],
             [
              0.1111111111111111,
              "#46039f"
             ],
             [
              0.2222222222222222,
              "#7201a8"
             ],
             [
              0.3333333333333333,
              "#9c179e"
             ],
             [
              0.4444444444444444,
              "#bd3786"
             ],
             [
              0.5555555555555556,
              "#d8576b"
             ],
             [
              0.6666666666666666,
              "#ed7953"
             ],
             [
              0.7777777777777778,
              "#fb9f3a"
             ],
             [
              0.8888888888888888,
              "#fdca26"
             ],
             [
              1,
              "#f0f921"
             ]
            ],
            "type": "contour"
           }
          ],
          "contourcarpet": [
           {
            "colorbar": {
             "outlinewidth": 0,
             "ticks": ""
            },
            "type": "contourcarpet"
           }
          ],
          "heatmap": [
           {
            "colorbar": {
             "outlinewidth": 0,
             "ticks": ""
            },
            "colorscale": [
             [
              0,
              "#0d0887"
             ],
             [
              0.1111111111111111,
              "#46039f"
             ],
             [
              0.2222222222222222,
              "#7201a8"
             ],
             [
              0.3333333333333333,
              "#9c179e"
             ],
             [
              0.4444444444444444,
              "#bd3786"
             ],
             [
              0.5555555555555556,
              "#d8576b"
             ],
             [
              0.6666666666666666,
              "#ed7953"
             ],
             [
              0.7777777777777778,
              "#fb9f3a"
             ],
             [
              0.8888888888888888,
              "#fdca26"
             ],
             [
              1,
              "#f0f921"
             ]
            ],
            "type": "heatmap"
           }
          ],
          "heatmapgl": [
           {
            "colorbar": {
             "outlinewidth": 0,
             "ticks": ""
            },
            "colorscale": [
             [
              0,
              "#0d0887"
             ],
             [
              0.1111111111111111,
              "#46039f"
             ],
             [
              0.2222222222222222,
              "#7201a8"
             ],
             [
              0.3333333333333333,
              "#9c179e"
             ],
             [
              0.4444444444444444,
              "#bd3786"
             ],
             [
              0.5555555555555556,
              "#d8576b"
             ],
             [
              0.6666666666666666,
              "#ed7953"
             ],
             [
              0.7777777777777778,
              "#fb9f3a"
             ],
             [
              0.8888888888888888,
              "#fdca26"
             ],
             [
              1,
              "#f0f921"
             ]
            ],
            "type": "heatmapgl"
           }
          ],
          "histogram": [
           {
            "marker": {
             "pattern": {
              "fillmode": "overlay",
              "size": 10,
              "solidity": 0.2
             }
            },
            "type": "histogram"
           }
          ],
          "histogram2d": [
           {
            "colorbar": {
             "outlinewidth": 0,
             "ticks": ""
            },
            "colorscale": [
             [
              0,
              "#0d0887"
             ],
             [
              0.1111111111111111,
              "#46039f"
             ],
             [
              0.2222222222222222,
              "#7201a8"
             ],
             [
              0.3333333333333333,
              "#9c179e"
             ],
             [
              0.4444444444444444,
              "#bd3786"
             ],
             [
              0.5555555555555556,
              "#d8576b"
             ],
             [
              0.6666666666666666,
              "#ed7953"
             ],
             [
              0.7777777777777778,
              "#fb9f3a"
             ],
             [
              0.8888888888888888,
              "#fdca26"
             ],
             [
              1,
              "#f0f921"
             ]
            ],
            "type": "histogram2d"
           }
          ],
          "histogram2dcontour": [
           {
            "colorbar": {
             "outlinewidth": 0,
             "ticks": ""
            },
            "colorscale": [
             [
              0,
              "#0d0887"
             ],
             [
              0.1111111111111111,
              "#46039f"
             ],
             [
              0.2222222222222222,
              "#7201a8"
             ],
             [
              0.3333333333333333,
              "#9c179e"
             ],
             [
              0.4444444444444444,
              "#bd3786"
             ],
             [
              0.5555555555555556,
              "#d8576b"
             ],
             [
              0.6666666666666666,
              "#ed7953"
             ],
             [
              0.7777777777777778,
              "#fb9f3a"
             ],
             [
              0.8888888888888888,
              "#fdca26"
             ],
             [
              1,
              "#f0f921"
             ]
            ],
            "type": "histogram2dcontour"
           }
          ],
          "mesh3d": [
           {
            "colorbar": {
             "outlinewidth": 0,
             "ticks": ""
            },
            "type": "mesh3d"
           }
          ],
          "parcoords": [
           {
            "line": {
             "colorbar": {
              "outlinewidth": 0,
              "ticks": ""
             }
            },
            "type": "parcoords"
           }
          ],
          "pie": [
           {
            "automargin": true,
            "type": "pie"
           }
          ],
          "scatter": [
           {
            "marker": {
             "line": {
              "color": "#283442"
             }
            },
            "type": "scatter"
           }
          ],
          "scatter3d": [
           {
            "line": {
             "colorbar": {
              "outlinewidth": 0,
              "ticks": ""
             }
            },
            "marker": {
             "colorbar": {
              "outlinewidth": 0,
              "ticks": ""
             }
            },
            "type": "scatter3d"
           }
          ],
          "scattercarpet": [
           {
            "marker": {
             "colorbar": {
              "outlinewidth": 0,
              "ticks": ""
             }
            },
            "type": "scattercarpet"
           }
          ],
          "scattergeo": [
           {
            "marker": {
             "colorbar": {
              "outlinewidth": 0,
              "ticks": ""
             }
            },
            "type": "scattergeo"
           }
          ],
          "scattergl": [
           {
            "marker": {
             "line": {
              "color": "#283442"
             }
            },
            "type": "scattergl"
           }
          ],
          "scattermapbox": [
           {
            "marker": {
             "colorbar": {
              "outlinewidth": 0,
              "ticks": ""
             }
            },
            "type": "scattermapbox"
           }
          ],
          "scatterpolar": [
           {
            "marker": {
             "colorbar": {
              "outlinewidth": 0,
              "ticks": ""
             }
            },
            "type": "scatterpolar"
           }
          ],
          "scatterpolargl": [
           {
            "marker": {
             "colorbar": {
              "outlinewidth": 0,
              "ticks": ""
             }
            },
            "type": "scatterpolargl"
           }
          ],
          "scatterternary": [
           {
            "marker": {
             "colorbar": {
              "outlinewidth": 0,
              "ticks": ""
             }
            },
            "type": "scatterternary"
           }
          ],
          "surface": [
           {
            "colorbar": {
             "outlinewidth": 0,
             "ticks": ""
            },
            "colorscale": [
             [
              0,
              "#0d0887"
             ],
             [
              0.1111111111111111,
              "#46039f"
             ],
             [
              0.2222222222222222,
              "#7201a8"
             ],
             [
              0.3333333333333333,
              "#9c179e"
             ],
             [
              0.4444444444444444,
              "#bd3786"
             ],
             [
              0.5555555555555556,
              "#d8576b"
             ],
             [
              0.6666666666666666,
              "#ed7953"
             ],
             [
              0.7777777777777778,
              "#fb9f3a"
             ],
             [
              0.8888888888888888,
              "#fdca26"
             ],
             [
              1,
              "#f0f921"
             ]
            ],
            "type": "surface"
           }
          ],
          "table": [
           {
            "cells": {
             "fill": {
              "color": "#506784"
             },
             "line": {
              "color": "rgb(17,17,17)"
             }
            },
            "header": {
             "fill": {
              "color": "#2a3f5f"
             },
             "line": {
              "color": "rgb(17,17,17)"
             }
            },
            "type": "table"
           }
          ]
         },
         "layout": {
          "annotationdefaults": {
           "arrowcolor": "#f2f5fa",
           "arrowhead": 0,
           "arrowwidth": 1
          },
          "autotypenumbers": "strict",
          "coloraxis": {
           "colorbar": {
            "outlinewidth": 0,
            "ticks": ""
           }
          },
          "colorscale": {
           "diverging": [
            [
             0,
             "#8e0152"
            ],
            [
             0.1,
             "#c51b7d"
            ],
            [
             0.2,
             "#de77ae"
            ],
            [
             0.3,
             "#f1b6da"
            ],
            [
             0.4,
             "#fde0ef"
            ],
            [
             0.5,
             "#f7f7f7"
            ],
            [
             0.6,
             "#e6f5d0"
            ],
            [
             0.7,
             "#b8e186"
            ],
            [
             0.8,
             "#7fbc41"
            ],
            [
             0.9,
             "#4d9221"
            ],
            [
             1,
             "#276419"
            ]
           ],
           "sequential": [
            [
             0,
             "#0d0887"
            ],
            [
             0.1111111111111111,
             "#46039f"
            ],
            [
             0.2222222222222222,
             "#7201a8"
            ],
            [
             0.3333333333333333,
             "#9c179e"
            ],
            [
             0.4444444444444444,
             "#bd3786"
            ],
            [
             0.5555555555555556,
             "#d8576b"
            ],
            [
             0.6666666666666666,
             "#ed7953"
            ],
            [
             0.7777777777777778,
             "#fb9f3a"
            ],
            [
             0.8888888888888888,
             "#fdca26"
            ],
            [
             1,
             "#f0f921"
            ]
           ],
           "sequentialminus": [
            [
             0,
             "#0d0887"
            ],
            [
             0.1111111111111111,
             "#46039f"
            ],
            [
             0.2222222222222222,
             "#7201a8"
            ],
            [
             0.3333333333333333,
             "#9c179e"
            ],
            [
             0.4444444444444444,
             "#bd3786"
            ],
            [
             0.5555555555555556,
             "#d8576b"
            ],
            [
             0.6666666666666666,
             "#ed7953"
            ],
            [
             0.7777777777777778,
             "#fb9f3a"
            ],
            [
             0.8888888888888888,
             "#fdca26"
            ],
            [
             1,
             "#f0f921"
            ]
           ]
          },
          "colorway": [
           "#636efa",
           "#EF553B",
           "#00cc96",
           "#ab63fa",
           "#FFA15A",
           "#19d3f3",
           "#FF6692",
           "#B6E880",
           "#FF97FF",
           "#FECB52"
          ],
          "font": {
           "color": "#f2f5fa"
          },
          "geo": {
           "bgcolor": "rgb(17,17,17)",
           "lakecolor": "rgb(17,17,17)",
           "landcolor": "rgb(17,17,17)",
           "showlakes": true,
           "showland": true,
           "subunitcolor": "#506784"
          },
          "hoverlabel": {
           "align": "left"
          },
          "hovermode": "closest",
          "mapbox": {
           "style": "dark"
          },
          "paper_bgcolor": "rgb(17,17,17)",
          "plot_bgcolor": "rgb(17,17,17)",
          "polar": {
           "angularaxis": {
            "gridcolor": "#506784",
            "linecolor": "#506784",
            "ticks": ""
           },
           "bgcolor": "rgb(17,17,17)",
           "radialaxis": {
            "gridcolor": "#506784",
            "linecolor": "#506784",
            "ticks": ""
           }
          },
          "scene": {
           "xaxis": {
            "backgroundcolor": "rgb(17,17,17)",
            "gridcolor": "#506784",
            "gridwidth": 2,
            "linecolor": "#506784",
            "showbackground": true,
            "ticks": "",
            "zerolinecolor": "#C8D4E3"
           },
           "yaxis": {
            "backgroundcolor": "rgb(17,17,17)",
            "gridcolor": "#506784",
            "gridwidth": 2,
            "linecolor": "#506784",
            "showbackground": true,
            "ticks": "",
            "zerolinecolor": "#C8D4E3"
           },
           "zaxis": {
            "backgroundcolor": "rgb(17,17,17)",
            "gridcolor": "#506784",
            "gridwidth": 2,
            "linecolor": "#506784",
            "showbackground": true,
            "ticks": "",
            "zerolinecolor": "#C8D4E3"
           }
          },
          "shapedefaults": {
           "line": {
            "color": "#f2f5fa"
           }
          },
          "sliderdefaults": {
           "bgcolor": "#C8D4E3",
           "bordercolor": "rgb(17,17,17)",
           "borderwidth": 1,
           "tickwidth": 0
          },
          "ternary": {
           "aaxis": {
            "gridcolor": "#506784",
            "linecolor": "#506784",
            "ticks": ""
           },
           "baxis": {
            "gridcolor": "#506784",
            "linecolor": "#506784",
            "ticks": ""
           },
           "bgcolor": "rgb(17,17,17)",
           "caxis": {
            "gridcolor": "#506784",
            "linecolor": "#506784",
            "ticks": ""
           }
          },
          "title": {
           "x": 0.05
          },
          "updatemenudefaults": {
           "bgcolor": "#506784",
           "borderwidth": 0
          },
          "xaxis": {
           "automargin": true,
           "gridcolor": "#283442",
           "linecolor": "#506784",
           "ticks": "",
           "title": {
            "standoff": 15
           },
           "zerolinecolor": "#283442",
           "zerolinewidth": 2
          },
          "yaxis": {
           "automargin": true,
           "gridcolor": "#283442",
           "linecolor": "#506784",
           "ticks": "",
           "title": {
            "standoff": 15
           },
           "zerolinecolor": "#283442",
           "zerolinewidth": 2
          }
         }
        },
        "title": {
         "text": "Pick up hour=2023-10-15 00:00:00, location_id=66"
        },
        "xaxis": {
         "anchor": "y",
         "domain": [
          0,
          1
         ],
         "title": {
          "text": "x"
         }
        },
        "yaxis": {
         "anchor": "x",
         "domain": [
          0,
          1
         ],
         "title": {
          "text": "y"
         }
        }
       }
      }
     },
     "metadata": {},
     "output_type": "display_data"
    }
   ],
   "source": [
    "plot_one_sample(\n",
    "    example_id=3979,\n",
    "    features=X_test,\n",
    "    targets=y_test,\n",
    "    predictions=pd.Series(predictions)\n",
    ")"
   ]
  },
  {
   "cell_type": "code",
   "execution_count": null,
   "metadata": {},
   "outputs": [],
   "source": []
  }
 ],
 "metadata": {
  "kernelspec": {
   "display_name": "conda_environment",
   "language": "python",
   "name": "python3"
  },
  "language_info": {
   "codemirror_mode": {
    "name": "ipython",
    "version": 3
   },
   "file_extension": ".py",
   "mimetype": "text/x-python",
   "name": "python",
   "nbconvert_exporter": "python",
   "pygments_lexer": "ipython3",
   "version": "3.9.18"
  }
 },
 "nbformat": 4,
 "nbformat_minor": 2
}
